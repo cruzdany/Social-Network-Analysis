{
  "nbformat": 4,
  "nbformat_minor": 0,
  "metadata": {
    "colab": {
      "name": "Networks_project.ipynb",
      "provenance": []
    },
    "kernelspec": {
      "name": "python3",
      "display_name": "Python 3"
    }
  },
  "cells": [
    {
      "cell_type": "code",
      "metadata": {
        "id": "Qez5q4h7KXMn",
        "colab_type": "code",
        "colab": {}
      },
      "source": [
        "import networkx as nx\n",
        "import pandas as pd\n",
        "import statistics\n",
        "import matplotlib.pyplot as plt\n",
        "import random"
      ],
      "execution_count": 1,
      "outputs": []
    },
    {
      "cell_type": "code",
      "metadata": {
        "id": "GbUebN1_KaSp",
        "colab_type": "code",
        "colab": {}
      },
      "source": [
        "fh=open(\"Wiki-Vote.txt\", 'rb')\n",
        "wiki=nx.read_adjlist(fh)"
      ],
      "execution_count": 2,
      "outputs": []
    },
    {
      "cell_type": "code",
      "metadata": {
        "id": "kCbwgMce-hcX",
        "colab_type": "code",
        "colab": {}
      },
      "source": [
        "\n",
        "def average_path_length_sample(G, N_sample):\n",
        "    if ( G.is_directed() ):\n",
        "        subgraph=G.subgraph(list(max(nx.strongly_connected_components(G), key=len)))  \n",
        "    else:\n",
        "        subgraph=G.subgraph(list(max(nx.connected_components(G), key=len)))\n",
        "        \n",
        "    ave= nx.average_shortest_path_length(subgraph)\n",
        "    return ave"
      ],
      "execution_count": 3,
      "outputs": []
    },
    {
      "cell_type": "code",
      "metadata": {
        "id": "W69G03wNN-uP",
        "colab_type": "code",
        "colab": {}
      },
      "source": [
        "def ecce(G, N_sample):\n",
        "    if ( G.is_directed() ):\n",
        "        subgraph=G.subgraph(list(max(nx.strongly_connected_components(G), key=len)))    \n",
        "    else:\n",
        "        subgraph=G.subgraph(list(max(nx.connected_components(G), key=len)))\n",
        "        \n",
        "    eccentricity = nx.eccentricity(subgraph)\n",
        "    return eccentricity"
      ],
      "execution_count": 4,
      "outputs": []
    },
    {
      "cell_type": "code",
      "metadata": {
        "id": "E8CZCK_dPXLh",
        "colab_type": "code",
        "colab": {}
      },
      "source": [
        "def diam(G, N_sample):\n",
        "    if ( G.is_directed() ):\n",
        "        subgraph=G.subgraph(list(max(nx.strongly_connected_components(G), key=len)))     \n",
        "    else:\n",
        "        subgraph=G.subgraph(list(max(nx.connected_components(G), key=len)))\n",
        "        \n",
        "    dist = nx.diameter(subgraph)\n",
        "    return dist"
      ],
      "execution_count": 5,
      "outputs": []
    },
    {
      "cell_type": "code",
      "metadata": {
        "id": "Bn15dMImR1Ke",
        "colab_type": "code",
        "colab": {}
      },
      "source": [
        "def cen(G, N_sample):\n",
        "    if ( G.is_directed() ):\n",
        "        subgraph=G.subgraph(list(max(nx.strongly_connected_components(G), key=len)))     \n",
        "    else:\n",
        "        subgraph=G.subgraph(list(max(nx.connected_components(G), key=len)))\n",
        "        \n",
        "    center = nx.center(subgraph)\n",
        "    return center"
      ],
      "execution_count": 6,
      "outputs": []
    },
    {
      "cell_type": "code",
      "metadata": {
        "id": "mffo1JvcA81O",
        "colab_type": "code",
        "colab": {
          "base_uri": "https://localhost:8080/",
          "height": 35
        },
        "outputId": "5eb6b2cb-73d7-407a-9e29-ebd9e53fed4c"
      },
      "source": [
        "network = [wiki]\n",
        "to_df_1 = []\n",
        "for i in network:\n",
        "    num_nodes = nx.number_of_nodes(i)\n",
        "    num_links = nx.number_of_edges(i)\n",
        "    #density = nx.density(i)\n",
        "    clust_coef = nx.average_clustering(i)\n",
        "    #readius = nx.radius(i)\n",
        "    N_sample = 1000\n",
        "    subgraph = wiki.subgraph(list(max(nx.connected_components(wiki), key=len)))\n",
        "    Nodes_sample = random.sample(subgraph.nodes, N_sample+200)\n",
        "    Graph_sample = wiki.subgraph(Nodes_sample)\n",
        "    avg_sht_path = average_path_length_sample(Graph_sample, 1000)\n",
        "    #eccentricity = ecce(Graph_sample, 1000)\n",
        "    diameter = diam(Graph_sample, 1000)\n",
        "    center = cen(Graph_sample, 1000)\n",
        "    elementos_cen = len(center)\n",
        "    #mean_deg = statistics.mean(degree_cent)\n",
        "    lis_of_them = [num_nodes, num_links, clust_coef, avg_sht_path, \n",
        "                   diameter, center, elementos_cen]\n",
        "    to_df_1.append(lis_of_them)\n",
        "net_features = pd.DataFrame(data=to_df_1, columns=['num_nodes', 'num_links', \n",
        "                                                   'clust_coef', 'avg_shortest_path', \n",
        "                                                   'diameter', 'nodes_center', \n",
        "                                                   'num_elements_center'])\n",
        "net_features\n",
        "\n",
        "print(to_df_1)"
      ],
      "execution_count": 7,
      "outputs": [
        {
          "output_type": "stream",
          "text": [
            "[[7115, 100762, 0.14089784589308738, 3.5049006717506157, 8, ['1211', '319', '1496', '24'], 4]]\n"
          ],
          "name": "stdout"
        }
      ]
    },
    {
      "cell_type": "code",
      "metadata": {
        "id": "N45w_g_KMjvs",
        "colab_type": "code",
        "colab": {
          "base_uri": "https://localhost:8080/",
          "height": 81
        },
        "outputId": "9f10dd52-a17d-44ee-9abb-d20213bd7fe2"
      },
      "source": [
        "net_features = pd.DataFrame(data=to_df_1, columns=['num_nodes', 'num_links', 'clust_coef', 'avg_shortest_path', 'diameter', 'nodes_center', 'num_elements_center'])\n",
        "net_features"
      ],
      "execution_count": 8,
      "outputs": [
        {
          "output_type": "execute_result",
          "data": {
            "text/html": [
              "<div>\n",
              "<style scoped>\n",
              "    .dataframe tbody tr th:only-of-type {\n",
              "        vertical-align: middle;\n",
              "    }\n",
              "\n",
              "    .dataframe tbody tr th {\n",
              "        vertical-align: top;\n",
              "    }\n",
              "\n",
              "    .dataframe thead th {\n",
              "        text-align: right;\n",
              "    }\n",
              "</style>\n",
              "<table border=\"1\" class=\"dataframe\">\n",
              "  <thead>\n",
              "    <tr style=\"text-align: right;\">\n",
              "      <th></th>\n",
              "      <th>num_nodes</th>\n",
              "      <th>num_links</th>\n",
              "      <th>clust_coef</th>\n",
              "      <th>avg_shortest_path</th>\n",
              "      <th>diameter</th>\n",
              "      <th>nodes_center</th>\n",
              "      <th>num_elements_center</th>\n",
              "    </tr>\n",
              "  </thead>\n",
              "  <tbody>\n",
              "    <tr>\n",
              "      <th>0</th>\n",
              "      <td>7115</td>\n",
              "      <td>100762</td>\n",
              "      <td>0.140898</td>\n",
              "      <td>3.504901</td>\n",
              "      <td>8</td>\n",
              "      <td>[1211, 319, 1496, 24]</td>\n",
              "      <td>4</td>\n",
              "    </tr>\n",
              "  </tbody>\n",
              "</table>\n",
              "</div>"
            ],
            "text/plain": [
              "   num_nodes  num_links  ...           nodes_center  num_elements_center\n",
              "0       7115     100762  ...  [1211, 319, 1496, 24]                    4\n",
              "\n",
              "[1 rows x 7 columns]"
            ]
          },
          "metadata": {
            "tags": []
          },
          "execution_count": 8
        }
      ]
    },
    {
      "cell_type": "code",
      "metadata": {
        "id": "YnuF3HKjfogZ",
        "colab_type": "code",
        "colab": {
          "base_uri": "https://localhost:8080/",
          "height": 81
        },
        "outputId": "47964ea3-bb9a-4799-e335-cfaf3621b5ca"
      },
      "source": [
        "network = [wiki]\n",
        "to_df_2 = []\n",
        "for i in network:\n",
        "    degree_cent = nx.degree_centrality(i)\n",
        "    max_deg = max(degree_cent)\n",
        "    min_deg = min(degree_cent)\n",
        "    pagerank = nx.pagerank(i)\n",
        "    betweenness = nx.betweenness_centrality(i)\n",
        "    max_betweenness = max(betweenness)\n",
        "    min_betweenness = min(betweenness)\n",
        "    closeness = nx.closeness_centrality(i)\n",
        "    max_closeness = max(closeness)\n",
        "    min_closeness = min(closeness)\n",
        "    lis_of_them1 = [min_deg, max_deg, pagerank, \n",
        "                    min_betweenness, \n",
        "                    max_betweenness, min_closeness,\n",
        "                    max_closeness]\n",
        "    to_df_2.append(lis_of_them1)\n",
        "\n",
        "cent_measures = pd.DataFrame(data=to_df_2, \n",
        "                             columns=['min_deg', \n",
        "                                      'max_deg', \n",
        "                                      'pagerank', \n",
        "                                      'min_betweenness', \n",
        "                                      'max_betweenness', 'min_closeness', \n",
        "                                      'max_closeness'])\n",
        "cent_measures"
      ],
      "execution_count": 9,
      "outputs": [
        {
          "output_type": "execute_result",
          "data": {
            "text/html": [
              "<div>\n",
              "<style scoped>\n",
              "    .dataframe tbody tr th:only-of-type {\n",
              "        vertical-align: middle;\n",
              "    }\n",
              "\n",
              "    .dataframe tbody tr th {\n",
              "        vertical-align: top;\n",
              "    }\n",
              "\n",
              "    .dataframe thead th {\n",
              "        text-align: right;\n",
              "    }\n",
              "</style>\n",
              "<table border=\"1\" class=\"dataframe\">\n",
              "  <thead>\n",
              "    <tr style=\"text-align: right;\">\n",
              "      <th></th>\n",
              "      <th>min_deg</th>\n",
              "      <th>max_deg</th>\n",
              "      <th>pagerank</th>\n",
              "      <th>min_betweenness</th>\n",
              "      <th>max_betweenness</th>\n",
              "      <th>min_closeness</th>\n",
              "      <th>max_closeness</th>\n",
              "    </tr>\n",
              "  </thead>\n",
              "  <tbody>\n",
              "    <tr>\n",
              "      <th>0</th>\n",
              "      <td>10</td>\n",
              "      <td>999</td>\n",
              "      <td>{'30': 0.0001519420295970706, '1412': 0.000270...</td>\n",
              "      <td>10</td>\n",
              "      <td>999</td>\n",
              "      <td>10</td>\n",
              "      <td>999</td>\n",
              "    </tr>\n",
              "  </tbody>\n",
              "</table>\n",
              "</div>"
            ],
            "text/plain": [
              "  min_deg max_deg  ... min_closeness max_closeness\n",
              "0      10     999  ...            10           999\n",
              "\n",
              "[1 rows x 7 columns]"
            ]
          },
          "metadata": {
            "tags": []
          },
          "execution_count": 9
        }
      ]
    },
    {
      "cell_type": "code",
      "metadata": {
        "id": "t8oQoS5pKk9q",
        "colab_type": "code",
        "colab": {
          "base_uri": "https://localhost:8080/",
          "height": 338
        },
        "outputId": "f0386d12-e6f4-4907-af6e-84463d1864ff"
      },
      "source": [
        "page = cent_measures[\"pagerank\"]\n"
      ],
      "execution_count": 20,
      "outputs": [
        {
          "output_type": "error",
          "ename": "KeyError",
          "evalue": "ignored",
          "traceback": [
            "\u001b[0;31m---------------------------------------------------------------------------\u001b[0m",
            "\u001b[0;31mKeyError\u001b[0m                                  Traceback (most recent call last)",
            "\u001b[0;32m<ipython-input-20-d9478b1e7dff>\u001b[0m in \u001b[0;36m<module>\u001b[0;34m()\u001b[0m\n\u001b[1;32m      1\u001b[0m \u001b[0mpage\u001b[0m \u001b[0;34m=\u001b[0m \u001b[0mcent_measures\u001b[0m\u001b[0;34m[\u001b[0m\u001b[0;34m\"pagerank\"\u001b[0m\u001b[0;34m]\u001b[0m\u001b[0;34m\u001b[0m\u001b[0;34m\u001b[0m\u001b[0m\n\u001b[1;32m      2\u001b[0m \u001b[0;34m\u001b[0m\u001b[0m\n\u001b[0;32m----> 3\u001b[0;31m \u001b[0mmax_value\u001b[0m \u001b[0;34m=\u001b[0m \u001b[0msorted\u001b[0m\u001b[0;34m(\u001b[0m\u001b[0mpage\u001b[0m \u001b[0;34m,\u001b[0m \u001b[0mkey\u001b[0m \u001b[0;34m=\u001b[0m \u001b[0;32mlambda\u001b[0m \u001b[0mx\u001b[0m\u001b[0;34m:\u001b[0m \u001b[0mx\u001b[0m\u001b[0;34m[\u001b[0m\u001b[0;36m1\u001b[0m\u001b[0;34m]\u001b[0m\u001b[0;34m)\u001b[0m\u001b[0;34m\u001b[0m\u001b[0;34m\u001b[0m\u001b[0m\n\u001b[0m\u001b[1;32m      4\u001b[0m \u001b[0mmax_value\u001b[0m\u001b[0;34m\u001b[0m\u001b[0;34m\u001b[0m\u001b[0m\n",
            "\u001b[0;32m<ipython-input-20-d9478b1e7dff>\u001b[0m in \u001b[0;36m<lambda>\u001b[0;34m(x)\u001b[0m\n\u001b[1;32m      1\u001b[0m \u001b[0mpage\u001b[0m \u001b[0;34m=\u001b[0m \u001b[0mcent_measures\u001b[0m\u001b[0;34m[\u001b[0m\u001b[0;34m\"pagerank\"\u001b[0m\u001b[0;34m]\u001b[0m\u001b[0;34m\u001b[0m\u001b[0;34m\u001b[0m\u001b[0m\n\u001b[1;32m      2\u001b[0m \u001b[0;34m\u001b[0m\u001b[0m\n\u001b[0;32m----> 3\u001b[0;31m \u001b[0mmax_value\u001b[0m \u001b[0;34m=\u001b[0m \u001b[0msorted\u001b[0m\u001b[0;34m(\u001b[0m\u001b[0mpage\u001b[0m \u001b[0;34m,\u001b[0m \u001b[0mkey\u001b[0m \u001b[0;34m=\u001b[0m \u001b[0;32mlambda\u001b[0m \u001b[0mx\u001b[0m\u001b[0;34m:\u001b[0m \u001b[0mx\u001b[0m\u001b[0;34m[\u001b[0m\u001b[0;36m1\u001b[0m\u001b[0;34m]\u001b[0m\u001b[0;34m)\u001b[0m\u001b[0;34m\u001b[0m\u001b[0;34m\u001b[0m\u001b[0m\n\u001b[0m\u001b[1;32m      4\u001b[0m \u001b[0mmax_value\u001b[0m\u001b[0;34m\u001b[0m\u001b[0;34m\u001b[0m\u001b[0m\n",
            "\u001b[0;31mKeyError\u001b[0m: 1"
          ]
        }
      ]
    },
    {
      "cell_type": "code",
      "metadata": {
        "id": "aQILurUonpe7",
        "colab_type": "code",
        "colab": {}
      },
      "source": [
        "def edge_to_remove(G):\n",
        "\tdict1 = nx.edge_betweenness_centrality(G)\n",
        "\tlit_of_tuples = dict1.items()\n",
        "\tlist_of_tuples.sort( key = lambda x:x[1], reverse = True)\n",
        "\treturn list_of_tuples[0][0]\n",
        "\t\n",
        "\n",
        "def girvan(G):\n",
        "\tc = (G.subgraph(c).copy() for c in nx.connected_components(G))\n",
        "\t#l = len(c)\n",
        "\t#print('The number of connected_components are {}'.format(l))\n",
        "\n",
        "\t#while(l == 1):\n",
        "\t\t#G.remove_edge(*edge_to_remove(G))\n",
        "\t\t#c = (G.subgraph(c).copy() for c in nx.connected_components(G))\n",
        "\t\t#l = len(c)\n",
        "\t\t#print('The number of connected_components are {}'.format(l))\n",
        "\n",
        "\treturn c"
      ],
      "execution_count": null,
      "outputs": []
    },
    {
      "cell_type": "code",
      "metadata": {
        "id": "9ECngWBmnyP3",
        "colab_type": "code",
        "colab": {
          "base_uri": "https://localhost:8080/",
          "height": 319
        },
        "outputId": "9127c121-fd61-4de9-d57a-a6df89746c34"
      },
      "source": [
        "nx.draw(wiki)\n",
        "plt.show()"
      ],
      "execution_count": 11,
      "outputs": [
        {
          "output_type": "display_data",
          "data": {
            "image/png": "[encoded data removed]",
            "text/plain": [
              "<Figure size 432x288 with 1 Axes>"
            ]
          },
          "metadata": {
            "tags": []
          }
        }
      ]
    },
    {
      "cell_type": "code",
      "metadata": {
        "id": "UcuI6sqKo5cP",
        "colab_type": "code",
        "colab": {
          "base_uri": "https://localhost:8080/",
          "height": 35
        },
        "outputId": "a379c383-0fa0-4bc3-c31d-1ff77a1c55f4"
      },
      "source": [
        "betweenness = nx.centrality.betweenness_centrality(wiki)\n",
        "sor1 = sorted(betweenness.items(), key=lambda x: x[1],reverse=True)[0:1]\n",
        "print('The node who has the highest closeness centrality is {}'.format(max(sor1)))"
      ],
      "execution_count": 21,
      "outputs": [
        {
          "output_type": "stream",
          "text": [
            "The node who has the highest closeness centrality is ('2565', 0.06125752063855017)\n"
          ],
          "name": "stdout"
        }
      ]
    },
    {
      "cell_type": "code",
      "metadata": {
        "id": "UZm-JNq6pYJC",
        "colab_type": "code",
        "colab": {
          "base_uri": "https://localhost:8080/",
          "height": 35
        },
        "outputId": "f9d56426-963a-4796-cd77-60480228c6c9"
      },
      "source": [
        "clos_cen = nx.closeness_centrality(wiki)\n",
        "\n",
        "sor = sorted(clos_cen.items(), key=lambda x: x[1],reverse=True)[0:1]\n",
        "print('The airpot who has the highest closeness centrality is {}'.format(max(sor)))"
      ],
      "execution_count": 23,
      "outputs": [
        {
          "output_type": "stream",
          "text": [
            "The airpot who has the highest closeness centrality is ('2565', 0.48741490125142045)\n"
          ],
          "name": "stdout"
        }
      ]
    },
    {
      "cell_type": "code",
      "metadata": {
        "id": "VznDFro94a7y",
        "colab_type": "code",
        "colab": {
          "base_uri": "https://localhost:8080/",
          "height": 54
        },
        "outputId": "323ebca3-2161-49fd-c3e3-537a0d3614f4"
      },
      "source": [
        "degree_sequence3 = sorted([d for d in nx.degree(wiki)], reverse=True)[0:5]\n",
        "print('The top five nodes are the following \\n{}'.format(degree_sequence3))"
      ],
      "execution_count": 24,
      "outputs": [
        {
          "output_type": "stream",
          "text": [
            "The top five nodes are the following \n",
            "[('999', 39), ('998', 30), ('996', 297), ('995', 18), ('994', 72)]\n"
          ],
          "name": "stdout"
        }
      ]
    }
  ]
}