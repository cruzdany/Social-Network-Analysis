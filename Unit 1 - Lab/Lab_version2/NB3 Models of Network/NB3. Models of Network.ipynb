{
 "cells": [
  {
   "cell_type": "markdown",
   "metadata": {},
   "source": [
    "# NB4. Models of Networks"
   ]
  },
  {
   "cell_type": "markdown",
   "metadata": {},
   "source": [
    "## A. Models of Networks.\n",
    "\n",
    "Consider the following [Graph Generators](https://networkx.github.io/documentation/stable/reference/generators.html):\n",
    "\n",
    "**Random Network Model**: The function ```erdos_renyi_graph(n,p)``` returns a $G_n,p$ random graph with the following parameters:\n",
    "* n - The number of nodes.\n",
    "* p - Probability fo edge creation.\n",
    "\n",
    "**Small World Model ** : The function ```watts_strogatz_graph(n,k,p)``` returns a small-world graph with the following parameters:\n",
    "* n - The number of nodes.\n",
    "* k - Each node is joined with its k nearest neighbors in a ring topology.\n",
    "* p - The probability of rewiring each edge."
   ]
  },
  {
   "cell_type": "code",
   "execution_count": 1,
   "metadata": {},
   "outputs": [],
   "source": [
    "import itertools\n",
    "import networkx as nx\n",
    "import numpy as np\n",
    "import pandas as pd\n",
    "import matplotlib.pyplot as plt\n",
    "import statistics "
   ]
  },
  {
   "cell_type": "markdown",
   "metadata": {},
   "source": [
    "### Task 1\n",
    "\n",
    "Simulate different networks using the Erdos-Renyi Model considering the following parameters:\n",
    "\n",
    "(a) N = 100, p = 0.20\n",
    "\n",
    "(b) N = 100, p = 0.40\n",
    "\n",
    "(c) N = 100, p = 0.60\n",
    "\n",
    "(d) N = 100, p = 0.80\n",
    "\n",
    "For each network plot its degree distribution. Additionally, make a comparative table including:\n",
    "* Number of links.\n",
    "* Expected number of links using the equation:\n",
    "$$ \\langle L \\rangle = p \\frac{N(N-1)}{2}$$\n",
    "* Average degree.\n",
    "* Expected average degrees using the equation:\n",
    "$$\\langle k \\rangle = p(N-1)$$\n",
    "* Density.\n",
    "* Expected density using the equation:\n",
    "$$\\langle d \\rangle = p$$\n",
    "* Average Shortest Path.\n",
    "* Expected Average Shortest Path using the equation:\n",
    "$$\\langle l \\rangle \\approx \\frac{ln(N)}{ln(\\langle k \\rangle)}$$"
   ]
  },
  {
   "cell_type": "code",
   "execution_count": 2,
   "metadata": {},
   "outputs": [],
   "source": [
    "# Simulation of different networks\n",
    "erdos20 = nx.erdos_renyi_graph(n=100, p=0.20, seed=None, directed=False)\n",
    "erdos40 = nx.erdos_renyi_graph(n=100, p=0.40, seed=None, directed=False)\n",
    "erdos60 = nx.erdos_renyi_graph(n=100, p=0.60, seed=None, directed=False)\n",
    "erdos80 = nx.erdos_renyi_graph(n=100, p=0.80, seed=None, directed=False)"
   ]
  },
  {
   "cell_type": "code",
   "execution_count": 3,
   "metadata": {},
   "outputs": [],
   "source": [
    "#Notebook Equations\n",
    "def links(N,P):\n",
    "    part1 = N*(N-1)/2\n",
    "    L = P*part1\n",
    "    return int(L)\n",
    "    \n",
    "def average_degree(N,P):\n",
    "    K = P*(N-1)\n",
    "    return K\n",
    "\n",
    "def density(P):\n",
    "    return P\n",
    "\n",
    "def average_short_path(N,P):\n",
    "    K = P*(N-1)\n",
    "    l = np.log(N)/np.log(K)\n",
    "    return l"
   ]
  },
  {
   "cell_type": "code",
   "execution_count": 4,
   "metadata": {},
   "outputs": [],
   "source": [
    "# Create lists to iterate over their items\n",
    "all_networks = [erdos20, erdos40, erdos60, erdos80]\n",
    "\n",
    "#       erdos20     erdos40      erdos60     erdos80\n",
    "nps = [[100, .20], [100, .40], [100,.60], [100,.80]]\n",
    "\n",
    "# Compute using Networkx as nx\n",
    "to_df_1 = []\n",
    "for i in all_networks:\n",
    "    num_links = nx.number_of_edges(i)\n",
    "    degree_sequence = [i.degree(n) for n in i.nodes]\n",
    "    avg_degree = statistics.mean(degree_sequence)\n",
    "    density = nx.density(i)\n",
    "    av_short_path = nx.average_shortest_path_length(i)\n",
    "    \n",
    "    lis_of_them = [num_links, avg_degree, density, av_short_path]\n",
    "    to_df_1.append(lis_of_them)\n",
    "\n",
    "# Compute By the given formulas\n",
    "to_df_2 = []\n",
    "for j in nps:\n",
    "    num_links = links(j[0], j[1])\n",
    "    av_degree = average_degree(j[0], j[1])\n",
    "    density = j[1]\n",
    "    av_short_path = average_short_path(j[0], j[1])\n",
    "    \n",
    "    lis_of_them_2 = [num_links, av_degree, density, av_short_path]\n",
    "    to_df_2.append(lis_of_them_2)\n",
    "    \n",
    "# to_df_1 and to_df_2 are list in which the data computed is stored"
   ]
  },
  {
   "cell_type": "code",
   "execution_count": 5,
   "metadata": {},
   "outputs": [
    {
     "data": {
      "text/html": [
       "<div>\n",
       "<style scoped>\n",
       "    .dataframe tbody tr th:only-of-type {\n",
       "        vertical-align: middle;\n",
       "    }\n",
       "\n",
       "    .dataframe tbody tr th {\n",
       "        vertical-align: top;\n",
       "    }\n",
       "\n",
       "    .dataframe thead th {\n",
       "        text-align: right;\n",
       "    }\n",
       "</style>\n",
       "<table border=\"1\" class=\"dataframe\">\n",
       "  <thead>\n",
       "    <tr style=\"text-align: right;\">\n",
       "      <th></th>\n",
       "      <th>num_links</th>\n",
       "      <th>avg_degree</th>\n",
       "      <th>density</th>\n",
       "      <th>avg_shts_path</th>\n",
       "    </tr>\n",
       "  </thead>\n",
       "  <tbody>\n",
       "    <tr>\n",
       "      <th>0</th>\n",
       "      <td>962</td>\n",
       "      <td>19.24</td>\n",
       "      <td>0.194343</td>\n",
       "      <td>1.828081</td>\n",
       "    </tr>\n",
       "    <tr>\n",
       "      <th>1</th>\n",
       "      <td>2008</td>\n",
       "      <td>40.16</td>\n",
       "      <td>0.405657</td>\n",
       "      <td>1.594343</td>\n",
       "    </tr>\n",
       "    <tr>\n",
       "      <th>2</th>\n",
       "      <td>2981</td>\n",
       "      <td>59.62</td>\n",
       "      <td>0.602222</td>\n",
       "      <td>1.397778</td>\n",
       "    </tr>\n",
       "    <tr>\n",
       "      <th>3</th>\n",
       "      <td>3924</td>\n",
       "      <td>78.48</td>\n",
       "      <td>0.792727</td>\n",
       "      <td>1.207273</td>\n",
       "    </tr>\n",
       "  </tbody>\n",
       "</table>\n",
       "</div>"
      ],
      "text/plain": [
       "   num_links  avg_degree   density  avg_shts_path\n",
       "0        962       19.24  0.194343       1.828081\n",
       "1       2008       40.16  0.405657       1.594343\n",
       "2       2981       59.62  0.602222       1.397778\n",
       "3       3924       78.48  0.792727       1.207273"
      ]
     },
     "execution_count": 5,
     "metadata": {},
     "output_type": "execute_result"
    }
   ],
   "source": [
    "# Dataframe with nx values\n",
    "df1 = pd.DataFrame(data=to_df_1, columns=['num_links', 'avg_degree', 'density', 'avg_shts_path'])\n",
    "df1"
   ]
  },
  {
   "cell_type": "code",
   "execution_count": 6,
   "metadata": {},
   "outputs": [],
   "source": [
    "# Dataframe with values computed with formulas\n",
    "df2 = pd.DataFrame(data=to_df_2, columns= ['num_links', 'avg_degree', 'density', 'avg_shst_path'])"
   ]
  },
  {
   "cell_type": "code",
   "execution_count": 7,
   "metadata": {},
   "outputs": [
    {
     "name": "stdout",
     "output_type": "stream",
     "text": [
      "Table using Networkx commands\n"
     ]
    },
    {
     "data": {
      "text/html": [
       "<div>\n",
       "<style scoped>\n",
       "    .dataframe tbody tr th:only-of-type {\n",
       "        vertical-align: middle;\n",
       "    }\n",
       "\n",
       "    .dataframe tbody tr th {\n",
       "        vertical-align: top;\n",
       "    }\n",
       "\n",
       "    .dataframe thead th {\n",
       "        text-align: right;\n",
       "    }\n",
       "</style>\n",
       "<table border=\"1\" class=\"dataframe\">\n",
       "  <thead>\n",
       "    <tr style=\"text-align: right;\">\n",
       "      <th></th>\n",
       "      <th>num_links</th>\n",
       "      <th>avg_degree</th>\n",
       "      <th>density</th>\n",
       "      <th>avg_shts_path</th>\n",
       "    </tr>\n",
       "  </thead>\n",
       "  <tbody>\n",
       "    <tr>\n",
       "      <th>0</th>\n",
       "      <td>962</td>\n",
       "      <td>19.24</td>\n",
       "      <td>0.194343</td>\n",
       "      <td>1.828081</td>\n",
       "    </tr>\n",
       "    <tr>\n",
       "      <th>1</th>\n",
       "      <td>2008</td>\n",
       "      <td>40.16</td>\n",
       "      <td>0.405657</td>\n",
       "      <td>1.594343</td>\n",
       "    </tr>\n",
       "    <tr>\n",
       "      <th>2</th>\n",
       "      <td>2981</td>\n",
       "      <td>59.62</td>\n",
       "      <td>0.602222</td>\n",
       "      <td>1.397778</td>\n",
       "    </tr>\n",
       "    <tr>\n",
       "      <th>3</th>\n",
       "      <td>3924</td>\n",
       "      <td>78.48</td>\n",
       "      <td>0.792727</td>\n",
       "      <td>1.207273</td>\n",
       "    </tr>\n",
       "  </tbody>\n",
       "</table>\n",
       "</div>"
      ],
      "text/plain": [
       "   num_links  avg_degree   density  avg_shts_path\n",
       "0        962       19.24  0.194343       1.828081\n",
       "1       2008       40.16  0.405657       1.594343\n",
       "2       2981       59.62  0.602222       1.397778\n",
       "3       3924       78.48  0.792727       1.207273"
      ]
     },
     "execution_count": 7,
     "metadata": {},
     "output_type": "execute_result"
    }
   ],
   "source": [
    "print(\"Table using Networkx commands\")\n",
    "df1"
   ]
  },
  {
   "cell_type": "code",
   "execution_count": 8,
   "metadata": {},
   "outputs": [
    {
     "name": "stdout",
     "output_type": "stream",
     "text": [
      "Table using the equations\n"
     ]
    },
    {
     "data": {
      "text/html": [
       "<div>\n",
       "<style scoped>\n",
       "    .dataframe tbody tr th:only-of-type {\n",
       "        vertical-align: middle;\n",
       "    }\n",
       "\n",
       "    .dataframe tbody tr th {\n",
       "        vertical-align: top;\n",
       "    }\n",
       "\n",
       "    .dataframe thead th {\n",
       "        text-align: right;\n",
       "    }\n",
       "</style>\n",
       "<table border=\"1\" class=\"dataframe\">\n",
       "  <thead>\n",
       "    <tr style=\"text-align: right;\">\n",
       "      <th></th>\n",
       "      <th>num_links</th>\n",
       "      <th>avg_degree</th>\n",
       "      <th>density</th>\n",
       "      <th>avg_shst_path</th>\n",
       "    </tr>\n",
       "  </thead>\n",
       "  <tbody>\n",
       "    <tr>\n",
       "      <th>0</th>\n",
       "      <td>990</td>\n",
       "      <td>19.8</td>\n",
       "      <td>0.2</td>\n",
       "      <td>1.542418</td>\n",
       "    </tr>\n",
       "    <tr>\n",
       "      <th>1</th>\n",
       "      <td>1980</td>\n",
       "      <td>39.6</td>\n",
       "      <td>0.4</td>\n",
       "      <td>1.251803</td>\n",
       "    </tr>\n",
       "    <tr>\n",
       "      <th>2</th>\n",
       "      <td>2970</td>\n",
       "      <td>59.4</td>\n",
       "      <td>0.6</td>\n",
       "      <td>1.127531</td>\n",
       "    </tr>\n",
       "    <tr>\n",
       "      <th>3</th>\n",
       "      <td>3960</td>\n",
       "      <td>79.2</td>\n",
       "      <td>0.8</td>\n",
       "      <td>1.053338</td>\n",
       "    </tr>\n",
       "  </tbody>\n",
       "</table>\n",
       "</div>"
      ],
      "text/plain": [
       "   num_links  avg_degree  density  avg_shst_path\n",
       "0        990        19.8      0.2       1.542418\n",
       "1       1980        39.6      0.4       1.251803\n",
       "2       2970        59.4      0.6       1.127531\n",
       "3       3960        79.2      0.8       1.053338"
      ]
     },
     "execution_count": 8,
     "metadata": {},
     "output_type": "execute_result"
    }
   ],
   "source": [
    "print(\"Table using the equations\")\n",
    "df2"
   ]
  },
  {
   "cell_type": "code",
   "execution_count": 9,
   "metadata": {},
   "outputs": [
    {
     "data": {
      "image/png": "[encoded data removed]",
      "text/plain": [
       "<Figure size 432x288 with 1 Axes>"
      ]
     },
     "metadata": {
      "needs_background": "light"
     },
     "output_type": "display_data"
    }
   ],
   "source": [
    "plt.hist(nx.degree_histogram(erdos20))\n",
    "plt.show()"
   ]
  },
  {
   "cell_type": "code",
   "execution_count": 10,
   "metadata": {},
   "outputs": [
    {
     "data": {
      "image/png": "[encoded data removed]",
      "text/plain": [
       "<Figure size 432x288 with 1 Axes>"
      ]
     },
     "metadata": {
      "needs_background": "light"
     },
     "output_type": "display_data"
    }
   ],
   "source": [
    "plt.hist(nx.degree_histogram(erdos40))\n",
    "plt.show()"
   ]
  },
  {
   "cell_type": "code",
   "execution_count": 11,
   "metadata": {},
   "outputs": [
    {
     "data": {
      "image/png": "[encoded data removed]",
      "text/plain": [
       "<Figure size 432x288 with 1 Axes>"
      ]
     },
     "metadata": {
      "needs_background": "light"
     },
     "output_type": "display_data"
    }
   ],
   "source": [
    "plt.hist(nx.degree_histogram(erdos60))\n",
    "plt.show()"
   ]
  },
  {
   "cell_type": "code",
   "execution_count": 12,
   "metadata": {},
   "outputs": [
    {
     "data": {
      "image/png": "[encoded data removed]",
      "text/plain": [
       "<Figure size 432x288 with 1 Axes>"
      ]
     },
     "metadata": {
      "needs_background": "light"
     },
     "output_type": "display_data"
    }
   ],
   "source": [
    "plt.hist(nx.degree_histogram(erdos80))\n",
    "plt.show()"
   ]
  },
  {
   "cell_type": "markdown",
   "metadata": {},
   "source": [
    "### Task 2\n",
    "\n",
    "Consider a the simulation of different random network with a fixed value of the number of nodes but different values of link probability. Naturally, at the beginig at p = 0, the system is totally fragmented into singletons. An increasing number of pairs of nodes will get connected, and through them connected subnetworks will be formed as the link probability increases. \n",
    "\n",
    "Erdos and Renyi discovered a transition point from configurations in which all subnetworks are relatively small, to a configuration where at least one of the subnetworks contains almost all the nodes. This transition can be observe in Fig. 1. \n",
    "\n",
    "\n",
    "\n",
    "\n",
    "<img src=\"Plot1.png\" width=\"360\"> </img>\n",
    "\n",
    "<center> Fig. 2</center>\n",
    "\n",
    "\n",
    "Don't forget that the probability and the expected degree $\\langle k \\rangle$  follow the relation:\n",
    "\n",
    "$$ \\langle L \\rangle = p \\frac{N(N-1)}{2}$$\n",
    "\n",
    "Fig. 1 is an sketch of the evoluation. Reproduce a similar plot for networks with 1000 nodes. Use 25 equally spaced values of the link probability, in the interval [0, 0.005]. For each value, generate 20 different networks, compute the relative size of the giant component. "
   ]
  },
  {
   "cell_type": "code",
   "execution_count": 13,
   "metadata": {},
   "outputs": [
    {
     "data": {
      "image/png": "[encoded data removed]",
      "text/plain": [
       "<Figure size 720x576 with 1 Axes>"
      ]
     },
     "metadata": {},
     "output_type": "display_data"
    }
   ],
   "source": [
    "import math\n",
    "erdos = nx.erdos_renyi_graph(n=1000,p=0.01)\n",
    "fig = plt.figure(figsize=(10, 8))\n",
    "# some visual styling for the figure\n",
    "ax = fig.gca()\n",
    "ax.grid(False) # no grid\n",
    "ax.get_xaxis().set_ticks([]) # no ticks on the axes\n",
    "ax.get_yaxis().set_ticks([])\n",
    "# run the spring layout algorithm over the network\n",
    "pos = nx.spring_layout(erdos, iterations = 50, k = 2/math.sqrt(1000))\n",
    "# draw the network using the computed positions for the nodes\n",
    "nx.draw_networkx_edges(erdos, pos, width = 1, alpha = 0.4)\n",
    "nx.draw_networkx_nodes(erdos, pos, node_size=100, alpha = 1,\n",
    "linewidths = 0.5)\n",
    "plt.show()"
   ]
  },
  {
   "cell_type": "markdown",
   "metadata": {},
   "source": [
    "## Task 3\n",
    "In the Watts-Strogratz Model, there is range of rewiring probability values between p = 0.01 and p = 0.1 in the average shortest-path length is close to that of an equivalent random network; and at the same time, the clustering coefficient from the model is high. Nevertheless, the model cannot generate hubs. Fig. 2 presents the average path length and the clustering coefficient as a function of the rewiring probability. Observe that the x-axis is in a logarithmic scale.\n",
    "\n",
    "\n",
    "<img src=\"Plot2.png\" width=\"360\"> </img>\n",
    "\n",
    "<center> Fig. 2</center>\n",
    "\n",
    "\n",
    "Reproduce a similar plot, by calculating:\n",
    "* the average shortest path ($\\langle l \\rangle$)\n",
    "* and the average clustering coefficient ($C$)\n",
    "\n",
    "for Watts–Strogatz networks constructed for different values of the rewiring probability p. Take 20 equally spaced values of p between 0 and 1. For each value of p, build 20 different networks and compute the average shortest path and average clustering coefficient. To plot the two curves on a common y-axis, you can normalize the values by dividing them by the corresponding values for the probability p = 0."
   ]
  },
  {
   "cell_type": "code",
   "execution_count": null,
   "metadata": {},
   "outputs": [],
   "source": []
  },
  {
   "cell_type": "markdown",
   "metadata": {},
   "source": [
    "### B. Identification of Network Models [40 pts]\n",
    "\n",
    "Analyze each of the 4 Networks and determine which of the three models was used to generate them:\n",
    "* model1.csv\n",
    "* model2.csv\n",
    "* model3.csv\n",
    "* model4.csv\n",
    "\n",
    "Justify your selection in each case."
   ]
  },
  {
   "cell_type": "code",
   "execution_count": 14,
   "metadata": {},
   "outputs": [],
   "source": [
    "csv1 = nx.read_adjlist(\"model1.csv\")\n",
    "csv2 = nx.read_adjlist(\"model2.csv\")\n",
    "csv3 = nx.read_adjlist(\"model3.csv\")\n",
    "csv4 = nx.read_adjlist(\"model4.csv\")"
   ]
  },
  {
   "cell_type": "code",
   "execution_count": 15,
   "metadata": {},
   "outputs": [],
   "source": [
    "csv_list = [csv1, csv2, csv3, csv4]\n",
    "to_df_csv = []\n",
    "for i in all_networks:\n",
    "    num_links = nx.number_of_edges(i)\n",
    "    degree_sequence = [i.degree(n) for n in i.nodes]\n",
    "    avg_degree = statistics.mean(degree_sequence)\n",
    "    density = nx.density(i)\n",
    "    av_short_path = nx.average_shortest_path_length(i)\n",
    "    \n",
    "    lis_of_them = [num_links, avg_degree, density, av_short_path]\n",
    "    to_df_csv.append(lis_of_them)"
   ]
  },
  {
   "cell_type": "code",
   "execution_count": 16,
   "metadata": {},
   "outputs": [
    {
     "data": {
      "text/html": [
       "<div>\n",
       "<style scoped>\n",
       "    .dataframe tbody tr th:only-of-type {\n",
       "        vertical-align: middle;\n",
       "    }\n",
       "\n",
       "    .dataframe tbody tr th {\n",
       "        vertical-align: top;\n",
       "    }\n",
       "\n",
       "    .dataframe thead th {\n",
       "        text-align: right;\n",
       "    }\n",
       "</style>\n",
       "<table border=\"1\" class=\"dataframe\">\n",
       "  <thead>\n",
       "    <tr style=\"text-align: right;\">\n",
       "      <th></th>\n",
       "      <th>num_links</th>\n",
       "      <th>avg_degree</th>\n",
       "      <th>density</th>\n",
       "      <th>avg_shts_path</th>\n",
       "    </tr>\n",
       "  </thead>\n",
       "  <tbody>\n",
       "    <tr>\n",
       "      <th>0</th>\n",
       "      <td>962</td>\n",
       "      <td>19.24</td>\n",
       "      <td>0.194343</td>\n",
       "      <td>1.828081</td>\n",
       "    </tr>\n",
       "    <tr>\n",
       "      <th>1</th>\n",
       "      <td>2008</td>\n",
       "      <td>40.16</td>\n",
       "      <td>0.405657</td>\n",
       "      <td>1.594343</td>\n",
       "    </tr>\n",
       "    <tr>\n",
       "      <th>2</th>\n",
       "      <td>2981</td>\n",
       "      <td>59.62</td>\n",
       "      <td>0.602222</td>\n",
       "      <td>1.397778</td>\n",
       "    </tr>\n",
       "    <tr>\n",
       "      <th>3</th>\n",
       "      <td>3924</td>\n",
       "      <td>78.48</td>\n",
       "      <td>0.792727</td>\n",
       "      <td>1.207273</td>\n",
       "    </tr>\n",
       "  </tbody>\n",
       "</table>\n",
       "</div>"
      ],
      "text/plain": [
       "   num_links  avg_degree   density  avg_shts_path\n",
       "0        962       19.24  0.194343       1.828081\n",
       "1       2008       40.16  0.405657       1.594343\n",
       "2       2981       59.62  0.602222       1.397778\n",
       "3       3924       78.48  0.792727       1.207273"
      ]
     },
     "execution_count": 16,
     "metadata": {},
     "output_type": "execute_result"
    }
   ],
   "source": [
    "df_csv = pd.DataFrame(data=to_df_csv, columns=['num_links', 'avg_degree', 'density', 'avg_shts_path'])\n",
    "df_csv"
   ]
  },
  {
   "cell_type": "code",
   "execution_count": 17,
   "metadata": {},
   "outputs": [
    {
     "data": {
      "image/png": "[encoded data removed]",
      "text/plain": [
       "<Figure size 432x288 with 1 Axes>"
      ]
     },
     "metadata": {
      "needs_background": "light"
     },
     "output_type": "display_data"
    }
   ],
   "source": [
    "plt.hist(nx.degree_histogram(csv1))\n",
    "plt.show()"
   ]
  },
  {
   "cell_type": "code",
   "execution_count": 18,
   "metadata": {},
   "outputs": [
    {
     "data": {
      "image/png": "[encoded data removed]",
      "text/plain": [
       "<Figure size 432x288 with 1 Axes>"
      ]
     },
     "metadata": {
      "needs_background": "light"
     },
     "output_type": "display_data"
    }
   ],
   "source": [
    "plt.hist(nx.degree_histogram(csv2))\n",
    "plt.show()"
   ]
  },
  {
   "cell_type": "code",
   "execution_count": 19,
   "metadata": {},
   "outputs": [
    {
     "data": {
      "image/png": "[encoded data removed]",
      "text/plain": [
       "<Figure size 432x288 with 1 Axes>"
      ]
     },
     "metadata": {
      "needs_background": "light"
     },
     "output_type": "display_data"
    }
   ],
   "source": [
    "plt.hist(nx.degree_histogram(csv3))\n",
    "plt.show()"
   ]
  },
  {
   "cell_type": "code",
   "execution_count": 20,
   "metadata": {},
   "outputs": [
    {
     "data": {
      "image/png": "[encoded data removed]",
      "text/plain": [
       "<Figure size 432x288 with 1 Axes>"
      ]
     },
     "metadata": {
      "needs_background": "light"
     },
     "output_type": "display_data"
    }
   ],
   "source": [
    "plt.hist(nx.degree_histogram(csv4))\n",
    "plt.show()"
   ]
  },
  {
   "cell_type": "code",
   "execution_count": null,
   "metadata": {},
   "outputs": [],
   "source": []
  },
  {
   "cell_type": "code",
   "execution_count": 21,
   "metadata": {},
   "outputs": [],
   "source": [
    "# Analysis of model1.csv (10 pts)"
   ]
  },
  {
   "cell_type": "code",
   "execution_count": 22,
   "metadata": {},
   "outputs": [],
   "source": [
    "# Analysis of model2.csv (10 pts)"
   ]
  },
  {
   "cell_type": "code",
   "execution_count": 23,
   "metadata": {},
   "outputs": [],
   "source": [
    "# Analysis of model3.csv (10 pts)"
   ]
  },
  {
   "cell_type": "code",
   "execution_count": 24,
   "metadata": {},
   "outputs": [],
   "source": [
    "# Analysis of model4.csv (10 pts)"
   ]
  }
 ],
 "metadata": {
  "kernelspec": {
   "display_name": "Python 3",
   "language": "python",
   "name": "python3"
  },
  "language_info": {
   "codemirror_mode": {
    "name": "ipython",
    "version": 3
   },
   "file_extension": ".py",
   "mimetype": "text/x-python",
   "name": "python",
   "nbconvert_exporter": "python",
   "pygments_lexer": "ipython3",
   "version": "3.7.6"
  }
 },
 "nbformat": 4,
 "nbformat_minor": 2
}
