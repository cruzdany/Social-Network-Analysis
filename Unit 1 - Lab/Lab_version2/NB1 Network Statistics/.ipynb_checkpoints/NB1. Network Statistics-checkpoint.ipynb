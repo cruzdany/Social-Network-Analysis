{
 "cells": [
  {
   "cell_type": "markdown",
   "metadata": {},
   "source": [
    "# NB1. Network Statistics\n",
    "\n",
    "Consider the following networks:\n",
    "* **Facebook Northwester University**(socfb-Northwestern25.edges.gz). Network of Facebook users at Northwestern University. Nodes represent people, and links stand for Facebook friend connections.\n",
    "* **US air transportation** (openflights_usa.edges.gz). The US air transportation network using flight data from OpenFlights.org. Nodes represent airports, and links stand for connections between them.\n",
    "* **Twitter USA Politics**(retweet-digraph.edges.gz). Retweet directed network with weigtht on Twitter, among people sharing posts about US politics. Links represent retweets of posts that used different hashtags (#tcot, #p2). The direction of the link from user A to B indicates that a message has propagated from A to B."
   ]
  },
  {
   "cell_type": "code",
   "execution_count": 1,
   "metadata": {},
   "outputs": [],
   "source": [
    "import itertools\n",
    "import networkx as nx\n",
    "import numpy as np\n",
    "import pandas as pd\n",
    "import matplotlib.pyplot as plt\n",
    "import statistics"
   ]
  },
  {
   "cell_type": "markdown",
   "metadata": {},
   "source": [
    "## Task 1\n",
    "Create a table including the following characteristics for each network:\n",
    "* Number of Nodes $N$.\n",
    "* Number of Links $L$.\n",
    "* Density $d$.\n",
    "* Average Degree $\\langle k\\rangle $. \n",
    "* Clustering Coefficient $C_C$. \n",
    "    \n",
    "Consider the following observations:\n",
    "* In the case of undirected networks, compute the average in-degree.\n",
    "* In the case of undirected networks, compute the clustering coefficient without taking into account the directions of the edges. In NetworkX it is possible to use the ``` G.to_undirected() ``` method to return an undirected copy of a graph G.\n"
   ]
  },
  {
   "cell_type": "code",
   "execution_count": 2,
   "metadata": {},
   "outputs": [],
   "source": [
    "fh1=open(\"socfb-Northwestern25.edgelist\", 'rb')\n",
    "fb=nx.read_edgelist(fh1)"
   ]
  },
  {
   "cell_type": "code",
   "execution_count": 3,
   "metadata": {},
   "outputs": [],
   "source": [
    "us = nx.read_edgelist(\"openflights_usa.edges\")"
   ]
  },
  {
   "cell_type": "code",
   "execution_count": 4,
   "metadata": {},
   "outputs": [],
   "source": [
    "#tw=nx.read_edgelist(\"retweet-digraph.edges\",create_using=nx.DiGraph())\n",
    "#tw=nx.read_edgelist(\"retweet-digraph.edges\", nodetype=int)\n",
    "\"\"\"fh3=open(\"retweet-digraph.edges\", 'rb')\n",
    "tw=nx.read_edgelist(fh3)\"\"\"\n",
    "tw = nx.read_weighted_edgelist(\"retweet-digraph.edges\")"
   ]
  },
  {
   "cell_type": "code",
   "execution_count": 5,
   "metadata": {},
   "outputs": [
    {
     "data": {
      "text/plain": [
       "False"
      ]
     },
     "execution_count": 5,
     "metadata": {},
     "output_type": "execute_result"
    }
   ],
   "source": [
    "nx.is_directed(tw)"
   ]
  },
  {
   "cell_type": "code",
   "execution_count": 6,
   "metadata": {},
   "outputs": [
    {
     "data": {
      "text/plain": [
       "False"
      ]
     },
     "execution_count": 6,
     "metadata": {},
     "output_type": "execute_result"
    }
   ],
   "source": [
    "nx.is_directed(fb)"
   ]
  },
  {
   "cell_type": "code",
   "execution_count": 7,
   "metadata": {},
   "outputs": [
    {
     "data": {
      "text/plain": [
       "False"
      ]
     },
     "execution_count": 7,
     "metadata": {},
     "output_type": "execute_result"
    }
   ],
   "source": [
    "nx.is_directed(us)"
   ]
  },
  {
   "cell_type": "code",
   "execution_count": 8,
   "metadata": {},
   "outputs": [],
   "source": [
    "# Create lists to iterate over their items\n",
    "all_networks = [fb, us, tw]\n",
    "\n",
    "\n",
    "# Compute using Networkx as nx\n",
    "to_df_1 = []\n",
    "for i in all_networks:\n",
    "    num_nodes = nx.number_of_nodes(i)\n",
    "    num_links = nx.number_of_edges(i)\n",
    "    density = nx.density(i)\n",
    "    degree_sequence = [i.degree(n) for n in i.nodes]\n",
    "    avg_degree2 = statistics.mean(degree_sequence)\n",
    "    clust_coef = nx.average_clustering(i)\n",
    "    lis_of_them = [num_nodes, num_links, density, avg_degree2, clust_coef]\n",
    "    to_df_1.append(lis_of_them)"
   ]
  },
  {
   "cell_type": "code",
   "execution_count": 9,
   "metadata": {},
   "outputs": [
    {
     "data": {
      "text/html": [
       "<div>\n",
       "<style scoped>\n",
       "    .dataframe tbody tr th:only-of-type {\n",
       "        vertical-align: middle;\n",
       "    }\n",
       "\n",
       "    .dataframe tbody tr th {\n",
       "        vertical-align: top;\n",
       "    }\n",
       "\n",
       "    .dataframe thead th {\n",
       "        text-align: right;\n",
       "    }\n",
       "</style>\n",
       "<table border=\"1\" class=\"dataframe\">\n",
       "  <thead>\n",
       "    <tr style=\"text-align: right;\">\n",
       "      <th></th>\n",
       "      <th>num_edges</th>\n",
       "      <th>num_links</th>\n",
       "      <th>density</th>\n",
       "      <th>avg_degree</th>\n",
       "      <th>clust_coef</th>\n",
       "    </tr>\n",
       "  </thead>\n",
       "  <tbody>\n",
       "    <tr>\n",
       "      <th>0</th>\n",
       "      <td>10567</td>\n",
       "      <td>488337</td>\n",
       "      <td>0.008748</td>\n",
       "      <td>92.426800</td>\n",
       "      <td>0.237991</td>\n",
       "    </tr>\n",
       "    <tr>\n",
       "      <th>1</th>\n",
       "      <td>546</td>\n",
       "      <td>2781</td>\n",
       "      <td>0.018691</td>\n",
       "      <td>10.186813</td>\n",
       "      <td>0.493045</td>\n",
       "    </tr>\n",
       "    <tr>\n",
       "      <th>2</th>\n",
       "      <td>18470</td>\n",
       "      <td>48053</td>\n",
       "      <td>0.000282</td>\n",
       "      <td>5.203357</td>\n",
       "      <td>0.026153</td>\n",
       "    </tr>\n",
       "  </tbody>\n",
       "</table>\n",
       "</div>"
      ],
      "text/plain": [
       "   num_edges  num_links   density  avg_degree  clust_coef\n",
       "0      10567     488337  0.008748   92.426800    0.237991\n",
       "1        546       2781  0.018691   10.186813    0.493045\n",
       "2      18470      48053  0.000282    5.203357    0.026153"
      ]
     },
     "execution_count": 9,
     "metadata": {},
     "output_type": "execute_result"
    }
   ],
   "source": [
    "df1 = pd.DataFrame(data=to_df_1, columns=['num_edges', 'num_links', 'density', 'avg_degree', 'clust_coef'])\n",
    "df1"
   ]
  },
  {
   "cell_type": "markdown",
   "metadata": {},
   "source": [
    "The average shortest-path length is a common aggregate distance measure for Networks. It can be obtained by averaging the shortest-path lengths across all pairs of nodes. The definition of this distance-based measure assume that the shortest-path length is defined for each pair of nodes. If there is any pairs without a path, then the the average path length is not defined. One way to present this result is by measuring only on the giant component; for the directed network it is possible to consider directed paths in the giants strongly connected component. However, due to the number of possible pairs of nodes, the computing of the average shortest-path length can be computational extensive.\n",
    "\n",
    "## Task 2\n",
    "Create a function ``` average_path_length_sample(G, N_sample)``` to compute the average path length on a Network. The function must identify if the network is directed or not.  The following method can be useful: ``` G.is_directed()```. In the case of directed networks it should use the strongly connected component to compute it. On the other hand, if the network is undirected, it should use the giang connected component of the network. \n",
    "\n",
    "In order to compute the average path length on a sample. Make a sample of ```N_sample``` randomly chosen nodes on the connected component and compute the average path length using it.\n",
    "\n",
    "The function must input ```G```a Network and ```N_sample```the number of nodes to be considered in the sample and output the average path length.\n",
    "\n",
    "Compute the average path length of the three given networks and add them into the table using ```N_sample=1000```."
   ]
  },
  {
   "cell_type": "code",
   "execution_count": 10,
   "metadata": {},
   "outputs": [
    {
     "data": {
      "text/plain": [
       "'average_path_length_sample(G, N_sample):\\n    is_directed = G.is_directed()\\n    if is_directed is False:\\n        giang = \\n        return giang\\n    else:\\n        '"
      ]
     },
     "execution_count": 10,
     "metadata": {},
     "output_type": "execute_result"
    }
   ],
   "source": [
    "\"\"\"average_path_length_sample(G, N_sample):\n",
    "    is_directed = G.is_directed()\n",
    "    if is_directed is False:\n",
    "        giang = \n",
    "        return giang\n",
    "    else:\n",
    "        \"\"\""
   ]
  },
  {
   "cell_type": "code",
   "execution_count": 11,
   "metadata": {},
   "outputs": [],
   "source": [
    "def average_path_length_sample(G):   #ADD N_sample\n",
    "    avg = nx.average_shortest_path_length(G)\n",
    "    return avg"
   ]
  },
  {
   "cell_type": "code",
   "execution_count": 12,
   "metadata": {},
   "outputs": [],
   "source": [
    "#average_path_length_sample(fb)"
   ]
  },
  {
   "cell_type": "code",
   "execution_count": 13,
   "metadata": {},
   "outputs": [],
   "source": [
    "#average_path_length_sample(tw)"
   ]
  },
  {
   "cell_type": "markdown",
   "metadata": {},
   "source": [
    "## Useful NetworkX Methods\n",
    "\n",
    "* [Reading and writing graphs](https://networkx.github.io/documentation/networkx-1.9/reference/readwrite.html). Check the ```read_edgelist``` method.\n",
    "* [Components](https://networkx.github.io/documentation/stable/reference/algorithms/component.html).\n",
    "\n",
    "## References\n",
    "[1] F. Mencszer, S. Fortunato, C. A. Davis (2020). A First Course in Network Science."
   ]
  },
  {
   "cell_type": "code",
   "execution_count": null,
   "metadata": {},
   "outputs": [],
   "source": []
  }
 ],
 "metadata": {
  "kernelspec": {
   "display_name": "Python 3",
   "language": "python",
   "name": "python3"
  },
  "language_info": {
   "codemirror_mode": {
    "name": "ipython",
    "version": 3
   },
   "file_extension": ".py",
   "mimetype": "text/x-python",
   "name": "python",
   "nbconvert_exporter": "python",
   "pygments_lexer": "ipython3",
   "version": "3.7.6"
  }
 },
 "nbformat": 4,
 "nbformat_minor": 2
}
