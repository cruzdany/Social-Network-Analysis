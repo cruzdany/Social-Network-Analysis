{
 "cells": [
  {
   "cell_type": "markdown",
   "metadata": {},
   "source": [
    "# NB4. Applications\n",
    "\n",
    "## 1. Facebook Network\n",
    "\n",
    "The ```socfb-Northwestern25``` (socfb-Northwestern25.edges.gz) is a snapshot of Northwestern University’s Facebook network. The nodes are anonymous users and the links are friend relationships. Load this network into a NetworkX graph in order to answer the following questions. Be sure to use the proper graph class for an undirected, unweighted network.\n",
    "1. What proportion of nodes have degree 100 or greater?"
   ]
  },
  {
   "cell_type": "code",
   "execution_count": 1,
   "metadata": {},
   "outputs": [],
   "source": [
    "import networkx as nx\n",
    "import pandas as pd\n",
    "import numpy as np\n",
    "import matplotlib.pyplot as plt\n",
    "import statistics "
   ]
  },
  {
   "cell_type": "code",
   "execution_count": 2,
   "metadata": {},
   "outputs": [],
   "source": [
    "fh1=open(\"socfb-Northwestern25.edgelist\", 'rb')\n",
    "fb=nx.read_edgelist(fh1)"
   ]
  },
  {
   "cell_type": "code",
   "execution_count": 3,
   "metadata": {},
   "outputs": [],
   "source": [
    "#nx.degree(fb)\n",
    "node_degree_dict=nx.degree(fb)\n",
    "G1 = nx.subgraph(fb,[x for x in fb.nodes()])\n",
    "G2=nx.subgraph(fb,[x for x in fb.nodes() if node_degree_dict[x]>100 or node_degree_dict[x]==100]) "
   ]
  },
  {
   "cell_type": "code",
   "execution_count": 4,
   "metadata": {},
   "outputs": [
    {
     "data": {
      "text/plain": [
       "4038"
      ]
     },
     "execution_count": 4,
     "metadata": {},
     "output_type": "execute_result"
    }
   ],
   "source": [
    "q1 = len(list(G2))\n",
    "q1"
   ]
  },
  {
   "cell_type": "code",
   "execution_count": 5,
   "metadata": {},
   "outputs": [
    {
     "data": {
      "text/plain": [
       "10567"
      ]
     },
     "execution_count": 5,
     "metadata": {},
     "output_type": "execute_result"
    }
   ],
   "source": [
    "q2 = len(list(G1))\n",
    "q2"
   ]
  },
  {
   "cell_type": "code",
   "execution_count": 6,
   "metadata": {},
   "outputs": [],
   "source": [
    "percentage = (q1 * 100)/q2"
   ]
  },
  {
   "cell_type": "code",
   "execution_count": 7,
   "metadata": {},
   "outputs": [
    {
     "name": "stdout",
     "output_type": "stream",
     "text": [
      "The proportion is 38.21%\n"
     ]
    }
   ],
   "source": [
    "print('The proportion is {0:.2f}%'.format(percentage))"
   ]
  },
  {
   "cell_type": "markdown",
   "metadata": {},
   "source": [
    "2. What is the maximum degree for nodes in this network?"
   ]
  },
  {
   "cell_type": "code",
   "execution_count": 8,
   "metadata": {},
   "outputs": [
    {
     "name": "stdout",
     "output_type": "stream",
     "text": [
      "The  maximum degree for nodes in this network is: 2105\n"
     ]
    }
   ],
   "source": [
    "max_node_degree = max(fb.nodes, key=fb.degree)\n",
    "max_degree_node = fb.degree(max_node_degree)\n",
    "print('The  maximum degree for nodes in this network is: {}'.format(max_degree_node))"
   ]
  },
  {
   "cell_type": "markdown",
   "metadata": {},
   "source": [
    "3. Users in this network are anonymized by giving the nodes numerical names. Which node hast the highest degree?"
   ]
  },
  {
   "cell_type": "code",
   "execution_count": 9,
   "metadata": {},
   "outputs": [
    {
     "name": "stdout",
     "output_type": "stream",
     "text": [
      "The node who has the highest degree is the node: 8262\n"
     ]
    }
   ],
   "source": [
    "print('The node who has the highest degree is the node: {}'.format(max_node_degree))"
   ]
  },
  {
   "cell_type": "markdown",
   "metadata": {},
   "source": [
    "4. What is the 95th percentile for degree, i.e. the value such that 95% of nodes have this degree or less?"
   ]
  },
  {
   "cell_type": "code",
   "execution_count": 10,
   "metadata": {},
   "outputs": [
    {
     "name": "stdout",
     "output_type": "stream",
     "text": [
      "The 95th percentile for degree in this network is 244.0\n"
     ]
    }
   ],
   "source": [
    "degf = [fb.degree(n) for n in fb.nodes]\n",
    "p95f = np.percentile(degf,95)\n",
    "print('The 95th percentile for degree in this network is {}'.format(p95f))"
   ]
  },
  {
   "cell_type": "markdown",
   "metadata": {},
   "source": [
    "5. What is the mean degree for nodes in this network? Round to the nearest integer."
   ]
  },
  {
   "cell_type": "code",
   "execution_count": 11,
   "metadata": {},
   "outputs": [
    {
     "name": "stdout",
     "output_type": "stream",
     "text": [
      "The mean degree for nodes is: 92.42680041639065\n"
     ]
    }
   ],
   "source": [
    "print('The mean degree for nodes is: {}'.format(statistics.mean(degf)))"
   ]
  },
  {
   "cell_type": "markdown",
   "metadata": {},
   "source": [
    "6. Which of the following shapes best describes the degree distribution in this network? You can obtain the answer visually using histograms.\n",
    "\n",
    "a. Uniform: node degrees are evenly distributed between the\n",
    "minimum and maximum.\n",
    "\n",
    "b. Normal: most node degrees are near the mean, dropping off rapidly in both directions.\n",
    "\n",
    "c. Right-tailed: most node degrees are relatively small compared to the range of degrees.\n",
    "\n",
    "d. Left-tailed: most node degrees are relatively large compared to the range of degrees."
   ]
  },
  {
   "cell_type": "code",
   "execution_count": 12,
   "metadata": {},
   "outputs": [
    {
     "data": {
      "image/png": "[encoded data removed]",
      "text/plain": [
       "<Figure size 432x288 with 1 Axes>"
      ]
     },
     "metadata": {
      "needs_background": "light"
     },
     "output_type": "display_data"
    },
    {
     "name": "stdout",
     "output_type": "stream",
     "text": [
      "According to the graph, I choose the answer d.\n",
      "Left-tailed: most node degrees are relatively large compared to the range of degrees.\n"
     ]
    }
   ],
   "source": [
    "plt.hist(nx.degree_histogram(fb))\n",
    "plt.show()\n",
    "print(\"According to the graph, I choose the answer d.\\nLeft-tailed: most node degrees are relatively large compared to the range of degrees.\")"
   ]
  },
  {
   "cell_type": "markdown",
   "metadata": {},
   "source": [
    "Once you measure the number of nodes and links, use ```nx.gnm_random_graph()```to create a separate random network with the same number of nodes and links as the Facebook graph. Use this random network to answer the following questions.\n",
    "\n",
    "7. What is the 95th percentile for degree in the random network, i.e. the value such that 95% of nodes have this degree or less?"
   ]
  },
  {
   "cell_type": "code",
   "execution_count": 13,
   "metadata": {},
   "outputs": [
    {
     "name": "stdout",
     "output_type": "stream",
     "text": [
      "The 95th percentile for degree in the random network is 109.0\n"
     ]
    }
   ],
   "source": [
    "ran = nx.gnm_random_graph(n=10576,m=488337)\n",
    "deg = [ran.degree(n) for n in ran.nodes]\n",
    "p95 = np.percentile(deg,95)\n",
    "print('The 95th percentile for degree in the random network is {}'.format(p95))\n",
    "#print(np.percentile(a,95))"
   ]
  },
  {
   "cell_type": "markdown",
   "metadata": {},
   "source": [
    "8. Which of the following shapes best describes the degree distribution in this random network? You can obtain the answer visually using histograms.\n",
    "\n",
    "a. Uniform: node degrees are evenly distributed between the\n",
    "minimum and maximum.\n",
    "\n",
    "b. Normal: most node degrees are near the mean, dropping off rapidly in both directions.\n",
    "\n",
    "c. Right-tailed: most node degrees are relatively small compared to the range of degrees.\n",
    "\n",
    "d. Left-tailed: most node degrees are relatively large compared to the range of degrees. "
   ]
  },
  {
   "cell_type": "code",
   "execution_count": 14,
   "metadata": {},
   "outputs": [
    {
     "data": {
      "image/png": "[encoded data removed]",
      "text/plain": [
       "<Figure size 432x288 with 1 Axes>"
      ]
     },
     "metadata": {
      "needs_background": "light"
     },
     "output_type": "display_data"
    },
    {
     "name": "stdout",
     "output_type": "stream",
     "text": [
      "According to the graph, I choose the answer d.\n",
      "Left-tailed: most node degrees are relatively large compared to the range of degrees.\n"
     ]
    }
   ],
   "source": [
    "plt.hist(nx.degree_histogram(ran))\n",
    "plt.show()\n",
    "print(\"According to the graph, I choose the answer d.\\nLeft-tailed: most node degrees are relatively large compared to the range of degrees.\")"
   ]
  },
  {
   "cell_type": "markdown",
   "metadata": {},
   "source": [
    "9. Estimate the average shortest-path length in this random network using a random sample of 1000 pairs of nodes."
   ]
  },
  {
   "cell_type": "code",
   "execution_count": 15,
   "metadata": {},
   "outputs": [
    {
     "data": {
      "text/plain": [
       "'import random\\nramil = random.sample(ran.nodes, 1000)\\nav_short_path = nx.algorithms.shortest_paths.generic.average_shortest_path_length(ramil)'"
      ]
     },
     "execution_count": 15,
     "metadata": {},
     "output_type": "execute_result"
    }
   ],
   "source": [
    "\"\"\"import random\n",
    "ramil = random.sample(ran.nodes, 1000)\n",
    "av_short_path = nx.algorithms.shortest_paths.generic.average_shortest_path_length(ramil)\"\"\""
   ]
  },
  {
   "cell_type": "code",
   "execution_count": 16,
   "metadata": {},
   "outputs": [
    {
     "data": {
      "text/plain": [
       "\"av_short_path = nx.average_shortest_path_length()\\nprint('The average shortest-path length in this random network is {}'.format(av_short_path))\""
      ]
     },
     "execution_count": 16,
     "metadata": {},
     "output_type": "execute_result"
    }
   ],
   "source": [
    "\"\"\"av_short_path = nx.average_shortest_path_length()\n",
    "print('The average shortest-path length in this random network is {}'.format(av_short_path))\"\"\""
   ]
  },
  {
   "cell_type": "markdown",
   "metadata": {},
   "source": [
    "10. What is the average clustering coefficient of this random network? Answer to at least two decimal places."
   ]
  },
  {
   "cell_type": "code",
   "execution_count": 17,
   "metadata": {},
   "outputs": [
    {
     "name": "stdout",
     "output_type": "stream",
     "text": [
      "The average clustering coefficient of this random network is 0.01\n"
     ]
    }
   ],
   "source": [
    "avg_clus = nx.average_clustering(ran)\n",
    "print('The average clustering coefficient of this random network is {0:.2f}'.format(avg_clus))"
   ]
  },
  {
   "cell_type": "markdown",
   "metadata": {},
   "source": [
    "## 2. OpenFlights\n",
    "Load the OpenFlights US flight (openflights_usa.edges.gz) network into a Network graph to answer the following questions.\n",
    "1. What is the average number of routes served by each airport in this network?"
   ]
  },
  {
   "cell_type": "code",
   "execution_count": 18,
   "metadata": {},
   "outputs": [],
   "source": [
    "us = nx.read_edgelist(\"openflights_usa.edges\")"
   ]
  },
  {
   "cell_type": "code",
   "execution_count": 19,
   "metadata": {},
   "outputs": [
    {
     "data": {
      "text/plain": [
       "False"
      ]
     },
     "execution_count": 19,
     "metadata": {},
     "output_type": "execute_result"
    }
   ],
   "source": [
    "nx.is_directed(us)"
   ]
  },
  {
   "cell_type": "markdown",
   "metadata": {},
   "source": [
    "2. What are the top five airport in terms of number of routes?"
   ]
  },
  {
   "cell_type": "code",
   "execution_count": 20,
   "metadata": {},
   "outputs": [
    {
     "name": "stdout",
     "output_type": "stream",
     "text": [
      "The top five airports in terms of number of routes are \n",
      "[('YUM', 2), ('YNG', 4), ('YKM', 1), ('YAK', 2), ('XNA', 14)]\n"
     ]
    }
   ],
   "source": [
    "degree_sequence3 = sorted([d for d in nx.degree(us)], reverse=True)[0:5]\n",
    "print('The top five airports in terms of number of routes are \\n{}'.format(degree_sequence3))"
   ]
  },
  {
   "cell_type": "markdown",
   "metadata": {},
   "source": [
    "3. How many airports in this network serve only a single route?"
   ]
  },
  {
   "cell_type": "code",
   "execution_count": 21,
   "metadata": {},
   "outputs": [
    {
     "name": "stdout",
     "output_type": "stream",
     "text": [
      "There are 156 airports that serve only a single route\n"
     ]
    }
   ],
   "source": [
    "node_degree_dict1 = nx.degree(us)\n",
    "sub = len(nx.subgraph(us,[x for x in us.nodes() if node_degree_dict1[x]==1]))\n",
    "print('There are {} airports that serve only a single route'.format(sub))"
   ]
  },
  {
   "cell_type": "markdown",
   "metadata": {},
   "source": [
    "4. Which airport has the highest closeness centrality?"
   ]
  },
  {
   "cell_type": "code",
   "execution_count": 22,
   "metadata": {},
   "outputs": [
    {
     "name": "stdout",
     "output_type": "stream",
     "text": [
      "The airpot who has the highest closeness centrality is ('DEN', 0.5038803683651619)\n"
     ]
    }
   ],
   "source": [
    "clos_cen = nx.closeness_centrality(us)\n",
    "\n",
    "sor = sorted(clos_cen.items(), key=lambda x: x[1],reverse=True)[0:1]\n",
    "print('The airpot who has the highest closeness centrality is {}'.format(max(sor)))"
   ]
  },
  {
   "cell_type": "markdown",
   "metadata": {},
   "source": [
    "5. Which airport has the highest betweeness centrality?"
   ]
  },
  {
   "cell_type": "code",
   "execution_count": 23,
   "metadata": {},
   "outputs": [
    {
     "name": "stdout",
     "output_type": "stream",
     "text": [
      "The airpot who has the highest closeness centrality is ('ANC', 0.3189906081983969)\n"
     ]
    }
   ],
   "source": [
    "betweenness = nx.centrality.betweenness_centrality(us)\n",
    "sor1 = sorted(betweenness.items(), key=lambda x: x[1],reverse=True)[0:1]\n",
    "print('The airpot who has the highest closeness centrality is {}'.format(max(sor1)))"
   ]
  },
  {
   "cell_type": "markdown",
   "metadata": {},
   "source": [
    "## 3. Zachary's Karate Club\n",
    "\n",
    "1. Find the best bisection of Zachary’s karate club network by applying the Kernighan–Lin algorithm. You can use the ```kernighan_lin_bisection()``` function of NetworkX. Compare the resulting bipartition with the natural partition of the network and expose similarities and differences."
   ]
  },
  {
   "cell_type": "code",
   "execution_count": 24,
   "metadata": {},
   "outputs": [],
   "source": [
    "karate = nx.karate_club_graph()"
   ]
  },
  {
   "cell_type": "code",
   "execution_count": 25,
   "metadata": {},
   "outputs": [
    {
     "data": {
      "image/png": "[encoded data removed]",
      "text/plain": [
       "<Figure size 432x288 with 1 Axes>"
      ]
     },
     "metadata": {},
     "output_type": "display_data"
    }
   ],
   "source": [
    "nx.draw(karate)\n",
    "plt.show()"
   ]
  },
  {
   "cell_type": "code",
   "execution_count": 26,
   "metadata": {},
   "outputs": [
    {
     "data": {
      "text/plain": [
       "({8, 14, 15, 18, 20, 22, 23, 24, 25, 26, 27, 28, 29, 30, 31, 32, 33},\n",
       " {0, 1, 2, 3, 4, 5, 6, 7, 9, 10, 11, 12, 13, 16, 17, 19, 21})"
      ]
     },
     "execution_count": 26,
     "metadata": {},
     "output_type": "execute_result"
    }
   ],
   "source": [
    "kernin = nx.algorithms.community.kernighan_lin.kernighan_lin_bisection(karate)\n",
    "kernin"
   ]
  },
  {
   "cell_type": "code",
   "execution_count": 27,
   "metadata": {},
   "outputs": [
    {
     "data": {
      "text/plain": [
       "<generator object girvan_newman at 0x0000019F49D78848>"
      ]
     },
     "execution_count": 27,
     "metadata": {},
     "output_type": "execute_result"
    }
   ],
   "source": [
    "nx.algorithms.community.centrality.girvan_newman(karate)"
   ]
  },
  {
   "cell_type": "code",
   "execution_count": 28,
   "metadata": {},
   "outputs": [],
   "source": [
    "#kernighan = nx.kernighan_lin_bisection(karate, partition=None, max_iter=10, weight='weight', seed=None)"
   ]
  },
  {
   "cell_type": "code",
   "execution_count": null,
   "metadata": {},
   "outputs": [],
   "source": []
  },
  {
   "cell_type": "markdown",
   "metadata": {},
   "source": [
    "2. Apply the Girvan–Newman algorithm using the ```community.girvan_newman()``` function of NetworkX. Verify that the partition $P_{GN}$ in five clusters is the one with highest modularity."
   ]
  },
  {
   "cell_type": "code",
   "execution_count": 29,
   "metadata": {},
   "outputs": [
    {
     "name": "stdout",
     "output_type": "stream",
     "text": [
      "([0, 1, 3, 4, 5, 6, 7, 10, 11, 12, 13, 16, 17, 19, 21], [2, 8, 9, 14, 15, 18, 20, 22, 23, 24, 25, 26, 27, 28, 29, 30, 31, 32, 33])\n",
      "([0, 1, 3, 4, 5, 6, 7, 10, 11, 12, 13, 16, 17, 19, 21], [2, 8, 14, 15, 18, 20, 22, 23, 24, 25, 26, 27, 28, 29, 30, 31, 32, 33], [9])\n",
      "([0, 1, 3, 7, 11, 12, 13, 17, 19, 21], [2, 8, 14, 15, 18, 20, 22, 23, 24, 25, 26, 27, 28, 29, 30, 31, 32, 33], [4, 5, 6, 10, 16], [9])\n",
      "([0, 1, 3, 7, 11, 12, 13, 17, 19, 21], [2, 24, 25, 27, 28, 31], [4, 5, 6, 10, 16], [8, 14, 15, 18, 20, 22, 23, 26, 29, 30, 32, 33], [9])\n",
      "([0, 1, 3, 7, 12, 13, 17, 19, 21], [2, 24, 25, 27, 28, 31], [4, 5, 6, 10, 16], [8, 14, 15, 18, 20, 22, 23, 26, 29, 30, 32, 33], [9], [11])\n"
     ]
    }
   ],
   "source": [
    "import itertools\n",
    "girnew = nx.community.girvan_newman(karate)\n",
    "k=5\n",
    "for communities in itertools.islice(girnew, k):\n",
    "    print(tuple(sorted(c) for c in communities))"
   ]
  },
  {
   "cell_type": "markdown",
   "metadata": {},
   "source": [
    "3. The modularity maximization algorithm, proposed by Newman, iteratively joins pairs of communities if the move increases the partition's modularity. Read about the Greedy Modularity Algorithm to find communities ([link](http://networksciencebook.com/chapter/9#modularity)).\n",
    "\n",
    "Write the general outline in the following space."
   ]
  },
  {
   "cell_type": "code",
   "execution_count": null,
   "metadata": {},
   "outputs": [],
   "source": []
  },
  {
   "cell_type": "markdown",
   "metadata": {},
   "source": [
    "4. Apply the NetworkX function for greedy modularity optimization ```community.greedy_modularity_communities()```. \n",
    "How many communities are there in the resulting partition $P_G$? Which partition has higher modularity, $P_{NG}$  or $P_G$? "
   ]
  },
  {
   "cell_type": "code",
   "execution_count": 30,
   "metadata": {},
   "outputs": [
    {
     "name": "stdout",
     "output_type": "stream",
     "text": [
      "[frozenset({32, 33, 8, 14, 15, 18, 20, 22, 23, 24, 25, 26, 27, 28, 29, 30, 31}), frozenset({1, 2, 3, 7, 9, 12, 13, 17, 21}), frozenset({0, 4, 5, 6, 10, 11, 16, 19})]\n",
      "frozenset({32, 33, 8, 14, 15, 18, 20, 22, 23, 24, 25, 26, 27, 28, 29, 30, 31})\n"
     ]
    }
   ],
   "source": [
    "greemod = nx.community.greedy_modularity_communities(karate)\n",
    "print(greemod)\n",
    "print(max(greemod))"
   ]
  },
  {
   "cell_type": "code",
   "execution_count": null,
   "metadata": {},
   "outputs": [],
   "source": []
  }
 ],
 "metadata": {
  "kernelspec": {
   "display_name": "Python 3",
   "language": "python",
   "name": "python3"
  },
  "language_info": {
   "codemirror_mode": {
    "name": "ipython",
    "version": 3
   },
   "file_extension": ".py",
   "mimetype": "text/x-python",
   "name": "python",
   "nbconvert_exporter": "python",
   "pygments_lexer": "ipython3",
   "version": "3.7.6"
  }
 },
 "nbformat": 4,
 "nbformat_minor": 4
}
