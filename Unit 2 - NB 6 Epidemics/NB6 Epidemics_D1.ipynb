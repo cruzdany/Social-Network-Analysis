{
 "cells": [
  {
   "cell_type": "markdown",
   "metadata": {},
   "source": [
    "# NB6. Epidemics\n",
    "\n",
    "## 1. Epidemic Modeling\n",
    "\n",
    "Epidemic Modeling allows to use analytical and numerical frameworks to model the spread of pathogens. This framework relies on two fundamental hypotesis:\n",
    "* Compartmentalization. Epidemic classify each individual based on the stage of the disease affecting them. The simplest classifications consider the following compartments or states:\n",
    "    * Susceptible (S): Healthy individuals who can potentially get infected by the disease.\n",
    "    * Infectious (I): Infected individuals who has can infect others.\n",
    "    * Recovered (R): Individuals whho have either recovered from the disease and have complete or partial inmunity.\n",
    "* Homogenuous Mixing. This hypotesis consider that each individual has the same chance of coming into contact with an infected individual.     \n",
    "\n",
    "In this section we will review the most frequently used epidemic models: SI, SIS and SIR Models. \n",
    "\n",
    "### 1.1 SI Model\n",
    "Consider a disease spreading in a population of N individuals. The number of susceptible individuals is denoted with $S(t)$ and infected individuals as $I(t)$. Consider that a certain time $t$ there is $I(t)$ infected individuals. A typical individual has $\\langle k \\rangle$ contacts and that the likelihood that the disease will be transmitted from an infected to a susceptible individual in a unit time is $\\beta$. \n",
    "\n",
    "The new infections $dI(t)$ during a timeframe $dt$ can be described as:\n",
    "$$\n",
    "dI(t) = \\beta \\langle k \\rangle \\frac{S(t)I(t)}{N} dt\n",
    "$$\n",
    "\n",
    "Consequently $I(t)$ changes at the rate:\n",
    "$$\n",
    "\\frac{dI(t)}{dt} = \\beta \\langle k \\rangle \\frac{S(t)I(t)}{N}\n",
    "$$\n",
    "\n",
    "Instead of using the absolute number of susceptible and infected individuals, it is possible to use the fraction of the susceptible and of the infected population at time $t$:\n",
    "$$\n",
    "s(t) = \\frac{S(t)}{N}\n",
    "$$\n",
    "\n",
    "$$\n",
    "i(t) = \\frac{I(t)}{N}\n",
    "$$\n",
    "Additionally, we can observe that the number of individuals of the population remains constant, i.e.\n",
    "$$\n",
    "S(t) + I(t) = N\n",
    "$$\n",
    "or\n",
    "$$\n",
    "s(t) + i(t) = 1\n",
    "$$\n",
    "Finally, it is possible to get:\n",
    "$$\n",
    "\\frac{di}{dt} = \\beta \\langle k \\rangle i(1-i)\n",
    "$$\n",
    "where the product $\\beta \\langle k \\rangle$ is called the transmission rate or transmissibility. On the other hand, the rate of $s(t)$ is given by:\n",
    "$$\n",
    "\\frac{ds}{dt} = - \\beta \\langle k \\rangle i(1-i)\n",
    "$$\n",
    "\n",
    "\n",
    "In this model, the characteristic time, i.e. the time required to reach $1/e$ fraction (36 %) of all susceptible individuals, is:\n",
    "$$\n",
    "\\tau = \\frac{1}{\\beta \\langle k \\rangle}\n",
    "$$\n",
    "\n",
    "### 1.2 SIS Model\n",
    "In general, most pathogens are eventually defeated by the inmune system or treatment. In this context, it is possible to capture the recovering of infected individuals. Considering that the infected individuals recover at a fixed rate $\\mu$, the dynamic of this model is given by,\n",
    "$$\n",
    "\\frac{di}{dt} = \\beta \\langle k \\rangle i(1-i) - \\mu i\n",
    "$$\n",
    "\n",
    "On the other hand, the rate of $s(t)$ is given by:\n",
    "$$\n",
    "\\frac{ds}{dt} = - \\beta \\langle k \\rangle i(1-i) + \\mu i\n",
    "$$\n",
    "The therm $\\mu$ is known as recovery rate. Additionally, the characteristic time of this model is:\n",
    "$$\n",
    "\\tau = \\frac{1}{\\mu(R_0 - 1)}\n",
    "$$\n",
    "where $R_0$ given by,\n",
    "$$\n",
    "R_0 = \\frac{\\beta \\langle k \\rangle}{\\mu}\n",
    "$$\n",
    "The term $R_0$ is called the basic reproductive number. It represents the average number of susceptible individuals infected by an infected individuals during its infectious. The basic reproductive number is valuable because it can predict the behavior of this model:\n",
    "* If $R_0$ exceeds unity, $\\tau$ is positive and the epidemic is in an endemic state. In this case $\\mu < \\beta \\langle k \\rangle$. In this state, the number of newly infected individuals equals the number of individuals who recover from the disease, hence the infected fraction of the population does not change over time. In the limit where $t\\to \\infty$:\n",
    "$$\n",
    "i(\\infty) = 1 - \\frac{\\mu}{\\beta \\langle k \\rangle}\n",
    "$$\n",
    "* If $R_0$ is less than the unity, $\\tau$ is negative and the epidemic is in a disease-free state. In this case, the number of individuals recovered per unit time exceeds the number of newly infected individuals. The fraction of infected $i$ decreases exponentially with time, indicating that an initial infection will die out exponentially.\n",
    "\n",
    "### 1.3 SIR Model\n",
    "\n",
    "For many pathogens, individuals develop inmunity after they recover from the infection. Hence, insted of returning to the susceptible state, thy are \"removed\" from the population. The differential equations governing the time evolution of the SIR Model are:\n",
    "$$\n",
    "\\frac{di}{dt} = \\beta \\langle k \\rangle i(1-r-i) - \\mu i\n",
    "$$\n",
    "\n",
    "$$\n",
    "\\frac{ds}{dt} = -\\beta \\langle k \\rangle i(1-r-i)\n",
    "$$\n",
    "\n",
    "$$\n",
    "\\frac{dr}{dt} = \\mu i\n",
    "$$\n",
    "In the case of the SIR model, everyone recovers at the end of the disease spreading.\n",
    "\n",
    "### 1.4 SIR Model - Numerical Solution\n",
    "\n",
    "Considering that the transmission rate will be described as:\n",
    "$$\n",
    "\\eta = \\beta \\langle k \\rangle\n",
    "$$\n",
    "\n",
    "The differential equations of the SIR Model can be written as:\n",
    "$$\n",
    "\\frac{di}{dt} = \\eta i(1-r-i) - \\mu i\n",
    "$$\n",
    "\n",
    "$$\n",
    "\\frac{ds}{dt} = -\\eta i(1-r-i)\n",
    "$$\n",
    "\n",
    "$$\n",
    "\\frac{dr}{dt} = \\mu i\n",
    "$$\n",
    "\n",
    "The following Python code integrates these equations."
   ]
  },
  {
   "cell_type": "code",
   "execution_count": 1,
   "metadata": {},
   "outputs": [],
   "source": [
    "import numpy as np\n",
    "from scipy.integrate import odeint\n",
    "import matplotlib.pyplot as plt"
   ]
  },
  {
   "cell_type": "code",
   "execution_count": 2,
   "metadata": {},
   "outputs": [],
   "source": [
    "def fun(y, t, eta, mu):\n",
    "    s, i, r = y\n",
    "    dsdt = -eta * s * i\n",
    "    didt = eta * s * i  - mu * i\n",
    "    drdt = mu * i\n",
    "    return dsdt, didt, drdt"
   ]
  },
  {
   "cell_type": "markdown",
   "metadata": {},
   "source": [
    "Consider the spread of a disease in a population of $N = 100$ individuals, where at the beginning only one is infected, i.e.\n",
    "$$\n",
    "S_0 = 99\n",
    "$$\n",
    "\n",
    "$$\n",
    "I_0 = 1\n",
    "$$\n",
    "\n",
    "$$\n",
    "R_0 = 0\n",
    "$$\n",
    "Additionally, consider that the transmission rate is $\\eta = 1.0$ and the recovery rate is $\\mu = 0.1$. Consider a time frame in the interval $(0, 50)$."
   ]
  },
  {
   "cell_type": "code",
   "execution_count": 3,
   "metadata": {},
   "outputs": [],
   "source": [
    "# N: Total population.\n",
    "N = 100\n",
    "\n",
    "# I0: Number of infected individuals at t = 0.\n",
    "I0 = 1\n",
    "i0 = I0 / N\n",
    "\n",
    "# S0: Number of susceptible individuals at t = 0.\n",
    "S0 = 99\n",
    "s0 = S0 / N\n",
    "\n",
    "# R0: Number of recovered individuals at t = 0.\n",
    "R0 = 0\n",
    "r0 = R0 / N\n",
    "\n",
    "# Transmission Rate and Recovery Rate\n",
    "eta = 1.0\n",
    "mu = 0.1\n",
    "\n",
    "y0 = s0, i0, r0\n",
    "\n",
    "# Time points\n",
    "t = np.linspace(0, 50, 100)"
   ]
  },
  {
   "cell_type": "code",
   "execution_count": 4,
   "metadata": {},
   "outputs": [],
   "source": [
    "# Initial conditions vector\n",
    "# Integrate the SIR equations over the time grid, t.\n",
    "ret = odeint(fun, y0, t, args=(eta, mu))\n",
    "\n",
    "s, i, r = ret.T"
   ]
  },
  {
   "cell_type": "code",
   "execution_count": 5,
   "metadata": {},
   "outputs": [
    {
     "data": {
      "image/png": "[encoded data removed]",
      "text/plain": [
       "<Figure size 432x288 with 1 Axes>"
      ]
     },
     "metadata": {
      "needs_background": "light"
     },
     "output_type": "display_data"
    }
   ],
   "source": [
    "# Plot Result\n",
    "fig = plt.figure()\n",
    "plt.plot(t, s, label = \"Susceptible Individuals\")\n",
    "plt.plot(t, i, label = \"Infected Individuals\")\n",
    "plt.plot(t, r, label = \"Recovered Individuals\")\n",
    "plt.legend()\n",
    "plt.ylabel('Fraction of total population')\n",
    "plt.xlabel('x')\n",
    "plt.show()"
   ]
  },
  {
   "cell_type": "markdown",
   "metadata": {},
   "source": [
    "## 1.5 Fitting the SIR Model \n",
    "\n",
    "The information in Table 1 was retrieved from an issue of the British Medical Journal (1978). In this issue there is an epidemiological case study about influenza in a British boarding school.\n",
    "\n",
    "| Day        | 1 | 2 | 3 | 4  | 5  | 6   | 7   | 8   | 9   | 10  | 11  | 12 | 13 | 14 | 15 |\n",
    "|------------|---|---|---|----|----|-----|-----|-----|-----|-----|-----|----|----|----|----|\n",
    "| Infections | 1 | 3 | 6 | 25 | 73 | 222 | 294 | 258 | 237 | 191 | 125 | 69 | 27 | 11 | 4  |\n",
    "\n",
    "The ```scipy.optimize.curve_fit``` method can be used to fit a function to data. ```curve_fit``` requires three inputs:\n",
    "```python\n",
    "scipy.integrate.curve_fit(func, xdata, ydata)\n",
    "                       \n",
    "```\n",
    "* func: The model function, f(x, …). It must take the independent variable as the first argument and the parameters to fit as separate remaining arguments.\n",
    "* xdata: The independent variable where the data is measured.\n",
    "* ydata: The dependent data."
   ]
  },
  {
   "cell_type": "code",
   "execution_count": 6,
   "metadata": {},
   "outputs": [],
   "source": [
    "from scipy.optimize import curve_fit"
   ]
  },
  {
   "cell_type": "code",
   "execution_count": 7,
   "metadata": {},
   "outputs": [],
   "source": [
    "# Data\n",
    "idata = [1, 3, 6, 25, 73, 222, 294, 258, 237, 191, 125, 69, 27, 11, 4]\n",
    "idata = np.array(idata)\n",
    "tdata = np.linspace(1,15, 15)"
   ]
  },
  {
   "cell_type": "code",
   "execution_count": 8,
   "metadata": {},
   "outputs": [
    {
     "data": {
      "image/png": "[encoded data removed]",
      "text/plain": [
       "<Figure size 432x288 with 1 Axes>"
      ]
     },
     "metadata": {
      "needs_background": "light"
     },
     "output_type": "display_data"
    }
   ],
   "source": [
    "# Data Visualization\n",
    "fig = plt.figure()\n",
    "plt.plot(tdata, idata, '.', label = \"Data\")\n",
    "plt.legend()\n",
    "plt.xlabel('Infected')\n",
    "plt.xlabel('Time (Day)')\n",
    "plt.show()"
   ]
  },
  {
   "cell_type": "code",
   "execution_count": 9,
   "metadata": {},
   "outputs": [],
   "source": [
    "# Variable Initialization\n",
    "\n",
    "# N: Total population.\n",
    "N = 763\n",
    "fdata = idata / N\n",
    "\n",
    "# I0: Number of infected individuals at t = 0.\n",
    "I0 = 1\n",
    "i0 = I0 / N\n",
    "\n",
    "# S0: Number of susceptible individuals at t = 0.\n",
    "S0 = 762\n",
    "s0 = S0 / N\n",
    "\n",
    "# R0: Number of recovered individuals at t = 0.\n",
    "R0 = 0\n",
    "r0 = R0 / N\n",
    "\n",
    "y0 = s0, i0, r0"
   ]
  },
  {
   "cell_type": "code",
   "execution_count": 10,
   "metadata": {},
   "outputs": [],
   "source": [
    "def fit_odeint(t, eta, mu):\n",
    "    return odeint(fun, y0, t, args=(eta, mu))[:,1]"
   ]
  },
  {
   "cell_type": "code",
   "execution_count": 11,
   "metadata": {},
   "outputs": [
    {
     "data": {
      "text/plain": [
       "array([0.00131062, 0.0032165 , 0.00786687, 0.01908148, 0.0453761 ,\n",
       "       0.10314691, 0.21357278, 0.37660973, 0.53993587, 0.64083117,\n",
       "       0.66985978, 0.65276459, 0.61389573, 0.56718652, 0.51930662])"
      ]
     },
     "execution_count": 11,
     "metadata": {},
     "output_type": "execute_result"
    }
   ],
   "source": [
    "fit_odeint(tdata, eta, mu)"
   ]
  },
  {
   "cell_type": "code",
   "execution_count": 12,
   "metadata": {},
   "outputs": [
    {
     "name": "stdout",
     "output_type": "stream",
     "text": [
      "Eta:  1.6638\n",
      "Mu:  0.4452\n"
     ]
    }
   ],
   "source": [
    "popt, pcov = curve_fit(fit_odeint, tdata, fdata)\n",
    "eta, mu = popt\n",
    "print(\"Eta: \", round(eta,4))\n",
    "print(\"Mu: \", round(mu, 4))"
   ]
  },
  {
   "cell_type": "code",
   "execution_count": 13,
   "metadata": {},
   "outputs": [
    {
     "name": "stdout",
     "output_type": "stream",
     "text": [
      "Reproductive Number:  3.7371\n"
     ]
    }
   ],
   "source": [
    "reproductiveNumber = eta/mu\n",
    "print(\"Reproductive Number: \", round(reproductiveNumber,4))"
   ]
  },
  {
   "cell_type": "code",
   "execution_count": 14,
   "metadata": {
    "scrolled": true
   },
   "outputs": [
    {
     "data": {
      "image/png": "[encoded data removed]",
      "text/plain": [
       "<Figure size 432x288 with 1 Axes>"
      ]
     },
     "metadata": {
      "needs_background": "light"
     },
     "output_type": "display_data"
    }
   ],
   "source": [
    "ret = odeint(fun, y0, tdata, args=(eta, mu))\n",
    "s, i, r = ret.T\n",
    "\n",
    "# Plot Result\n",
    "fig = plt.figure()\n",
    "plt.plot(tdata, s, label = \"Susceptible\")\n",
    "plt.plot(tdata, i, label = \"Infected\")\n",
    "plt.plot(tdata, r, label = \"Recovered\")\n",
    "plt.plot(tdata, fdata, '.', label = \"Data\")\n",
    "plt.legend()\n",
    "plt.ylabel('Fraction of total population')\n",
    "plt.xlabel('x')\n",
    "plt.show()"
   ]
  },
  {
   "cell_type": "markdown",
   "metadata": {},
   "source": [
    "## Exercises\n",
    "\n",
    "(a) Compute the numerical integration for the SI Model. Make a plot of the fraction of Susceptibles and Infected considering $N = 100$ , $I_0 = 1$ and $\\beta \\langle k \\rangle = 0.3$ in a time frame from 0 to 50.  "
   ]
  },
  {
   "cell_type": "code",
   "execution_count": 15,
   "metadata": {},
   "outputs": [
    {
     "data": {
      "image/png": "[encoded data removed]",
      "text/plain": [
       "<Figure size 432x288 with 1 Axes>"
      ]
     },
     "metadata": {
      "needs_background": "light"
     },
     "output_type": "display_data"
    }
   ],
   "source": [
    "def funSI(y, t, eta):\n",
    "    s, i = y\n",
    "    dsdt = -eta * s * i\n",
    "    didt = eta * s * i \n",
    "    return dsdt, didt\n",
    "\n",
    "# N: Total population.\n",
    "N = 100\n",
    "\n",
    "# I0: Number of infected individuals at t = 0.\n",
    "I0 = 1\n",
    "i0 = I0 / N\n",
    "\n",
    "# S0: Number of susceptible individuals at t = 0.\n",
    "S0 = 99\n",
    "s0 = S0 / N\n",
    "\n",
    "# Transmission Rate and Recovery Rate\n",
    "eta = 0.3\n",
    "\n",
    "y0 = s0, i0\n",
    "\n",
    "# Time points\n",
    "t = np.linspace(0, 50, 100)\n",
    "\n",
    "# Initial conditions vector\n",
    "# Integrate the SIR equations over the time grid, t.\n",
    "ret = odeint(funSI, y0, t,args=(eta,))\n",
    "\n",
    "s, i = ret.T\n",
    "\n",
    "# Plot Result\n",
    "fig = plt.figure()\n",
    "plt.plot(t, s, label = \"Susceptible\")\n",
    "plt.plot(t, i, label = \"Infected\")\n",
    "plt.legend()\n",
    "plt.ylabel('Fraction of total population')\n",
    "plt.xlabel('x')\n",
    "plt.show()"
   ]
  },
  {
   "cell_type": "markdown",
   "metadata": {},
   "source": [
    "(b) Compute the numerical integration for the SIS Model. Make a plot of the fraction of Susceptibles and Infected considering $N = 100$, $I_0 = 1$, $\\beta \\langle k \\rangle = 1$ and $\\mu = 0.1$ in a time frame from 0 to 50.  "
   ]
  },
  {
   "cell_type": "code",
   "execution_count": 16,
   "metadata": {},
   "outputs": [
    {
     "data": {
      "image/png": "[encoded data removed]",
      "text/plain": [
       "<Figure size 432x288 with 1 Axes>"
      ]
     },
     "metadata": {
      "needs_background": "light"
     },
     "output_type": "display_data"
    }
   ],
   "source": [
    "def funSIS(y, t, eta,mu):\n",
    "    s, i = y\n",
    "    dsdt = -eta * s * i + (mu*i)\n",
    "    didt = eta * s * i - (mu*i)\n",
    "    return dsdt, didt\n",
    "\n",
    "N = 100\n",
    "\n",
    "# I0: Number of infected individuals at t = 0.\n",
    "I0 = 1\n",
    "i0 = I0 / N\n",
    "\n",
    "# S0: Number of susceptible individuals at t = 0.\n",
    "S0 = 99\n",
    "s0 = S0 / N\n",
    "\n",
    "eta = 1\n",
    "mu = 0.1\n",
    "\n",
    "y0 = s0, i0\n",
    "\n",
    "t = np.linspace(0, 50, 100)\n",
    "\n",
    "ret = odeint(funSIS, y0, t,args=(eta,mu))\n",
    "\n",
    "s, i = ret.T\n",
    "\n",
    "fig = plt.figure()\n",
    "plt.plot(t, s, label = \"Susceptible\")\n",
    "plt.plot(t, i, label = \"Infected\")\n",
    "plt.legend()\n",
    "plt.ylabel('Fraction of total population')\n",
    "plt.xlabel('x')\n",
    "plt.show()"
   ]
  },
  {
   "cell_type": "markdown",
   "metadata": {},
   "source": [
    "(c) Simulate the SIR dynamics on a random network with $N = 1000$ nodes and link probability $p = 0.01$. Initially 10 nodes are infected, chosen at random. The probability of recovery is $\\mu = 0.5$. Run the dynamics for these values of the infection probability $\\beta =$ 0.02, 0.05, 0.1, 0.2. In each run, save the number of simultaneously infected people after each iteration and calculate the maximum value. Additionally, present a plot with the node state proportions. Interpret the results. How many iterations are needed to reach the maximum? Do you observe a major outbreak? Why or why not? (Hint: Feel free to modify the code in this chapter’s tutorial to run the simulations.) In order to complete this task, consider the Chapter 7 Tutorial ([Link](https://github.com/CambridgeUniversityPress/FirstCourseNetworkScience/blob/master/tutorials/Chapter%207%20Tutorial.ipynb)) from the Mencszer et al. (2020) book."
   ]
  },
  {
   "cell_type": "code",
   "execution_count": null,
   "metadata": {},
   "outputs": [],
   "source": []
  },
  {
   "cell_type": "markdown",
   "metadata": {},
   "source": [
    "## References\n",
    "\n",
    "[1] The SIR epidemic model: https://scipython.com/book/chapter-8-scipy/additional-examples/the-sir-epidemic-model/.\n",
    "\n",
    "[2] Fitting the SIR model of disease to data in Python: https://numbersandshapes.net/post/fitting_sir_to_data_in_python/.\n",
    "\n",
    "[3] F. Mencszer, S. Fortunato, C. A. Davis (2020). A First Course in Network Science.\n",
    "\n",
    "[4] L. A. Barabasi (2016) Network Science. "
   ]
  },
  {
   "cell_type": "code",
   "execution_count": null,
   "metadata": {},
   "outputs": [],
   "source": []
  }
 ],
 "metadata": {
  "kernelspec": {
   "display_name": "Python 3",
   "language": "python",
   "name": "python3"
  },
  "language_info": {
   "codemirror_mode": {
    "name": "ipython",
    "version": 3
   },
   "file_extension": ".py",
   "mimetype": "text/x-python",
   "name": "python",
   "nbconvert_exporter": "python",
   "pygments_lexer": "ipython3",
   "version": "3.7.6"
  }
 },
 "nbformat": 4,
 "nbformat_minor": 4
}
